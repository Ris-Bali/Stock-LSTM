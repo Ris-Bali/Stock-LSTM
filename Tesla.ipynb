{
  "nbformat": 4,
  "nbformat_minor": 0,
  "metadata": {
    "colab": {
      "name": "Tesla.ipynb",
      "provenance": [],
      "collapsed_sections": []
    },
    "kernelspec": {
      "name": "python3",
      "display_name": "Python 3"
    },
    "language_info": {
      "name": "python"
    },
    "accelerator": "TPU"
  },
  "cells": [
    {
      "cell_type": "code",
      "metadata": {
        "id": "qmM1BsxBaLQU"
      },
      "source": [
        "import pandas_datareader as pdr\n",
        "import pandas as pd \n",
        "import matplotlib.pyplot as plt\n",
        "import numpy as np\n",
        "import math\n",
        "from sklearn.metrics import mean_squared_error\n",
        "from sklearn.preprocessing import MinMaxScaler\n",
        "from tensorflow.keras.models import Sequential\n",
        "from tensorflow.keras.layers import Dense\n",
        "from tensorflow.keras.layers import LSTM\n"
      ],
      "execution_count": null,
      "outputs": []
    },
    {
      "cell_type": "markdown",
      "metadata": {
        "id": "4xZx7wwsi70R"
      },
      "source": [
        " We will train this LSTM network using Tesla's stock market data"
      ]
    },
    {
      "cell_type": "code",
      "metadata": {
        "id": "KJcOIrtdaR6L"
      },
      "source": [
        "df=pdr.get_data_tiingo('TSLA',api_key=key)"
      ],
      "execution_count": null,
      "outputs": []
    },
    {
      "cell_type": "code",
      "metadata": {
        "id": "JQQ_P9o_ez2L"
      },
      "source": [
        "df.to_csv('Tesla.csv')"
      ],
      "execution_count": null,
      "outputs": []
    },
    {
      "cell_type": "code",
      "metadata": {
        "id": "3QE4XyhmfClD"
      },
      "source": [
        "data=pd.read_csv('Tesla.csv')"
      ],
      "execution_count": null,
      "outputs": []
    },
    {
      "cell_type": "code",
      "metadata": {
        "colab": {
          "base_uri": "https://localhost:8080/",
          "height": 417
        },
        "id": "6fFATXpFfS0C",
        "outputId": "a41aebb3-0d36-4d08-b401-e16712030016"
      },
      "source": [
        "data"
      ],
      "execution_count": null,
      "outputs": [
        {
          "output_type": "execute_result",
          "data": {
            "text/html": [
              "<div>\n",
              "<style scoped>\n",
              "    .dataframe tbody tr th:only-of-type {\n",
              "        vertical-align: middle;\n",
              "    }\n",
              "\n",
              "    .dataframe tbody tr th {\n",
              "        vertical-align: top;\n",
              "    }\n",
              "\n",
              "    .dataframe thead th {\n",
              "        text-align: right;\n",
              "    }\n",
              "</style>\n",
              "<table border=\"1\" class=\"dataframe\">\n",
              "  <thead>\n",
              "    <tr style=\"text-align: right;\">\n",
              "      <th></th>\n",
              "      <th>symbol</th>\n",
              "      <th>date</th>\n",
              "      <th>close</th>\n",
              "      <th>high</th>\n",
              "      <th>low</th>\n",
              "      <th>open</th>\n",
              "      <th>volume</th>\n",
              "      <th>adjClose</th>\n",
              "      <th>adjHigh</th>\n",
              "      <th>adjLow</th>\n",
              "      <th>adjOpen</th>\n",
              "      <th>adjVolume</th>\n",
              "      <th>divCash</th>\n",
              "      <th>splitFactor</th>\n",
              "    </tr>\n",
              "  </thead>\n",
              "  <tbody>\n",
              "    <tr>\n",
              "      <th>0</th>\n",
              "      <td>TSLA</td>\n",
              "      <td>2016-12-02 00:00:00+00:00</td>\n",
              "      <td>181.47</td>\n",
              "      <td>184.8800</td>\n",
              "      <td>180.0000</td>\n",
              "      <td>182.88</td>\n",
              "      <td>4042324</td>\n",
              "      <td>36.294</td>\n",
              "      <td>36.9760</td>\n",
              "      <td>36.0000</td>\n",
              "      <td>36.576</td>\n",
              "      <td>20211620</td>\n",
              "      <td>0.0</td>\n",
              "      <td>1.0</td>\n",
              "    </tr>\n",
              "    <tr>\n",
              "      <th>1</th>\n",
              "      <td>TSLA</td>\n",
              "      <td>2016-12-05 00:00:00+00:00</td>\n",
              "      <td>186.80</td>\n",
              "      <td>188.8900</td>\n",
              "      <td>182.5100</td>\n",
              "      <td>182.51</td>\n",
              "      <td>4072239</td>\n",
              "      <td>37.360</td>\n",
              "      <td>37.7780</td>\n",
              "      <td>36.5020</td>\n",
              "      <td>36.502</td>\n",
              "      <td>20361195</td>\n",
              "      <td>0.0</td>\n",
              "      <td>1.0</td>\n",
              "    </tr>\n",
              "    <tr>\n",
              "      <th>2</th>\n",
              "      <td>TSLA</td>\n",
              "      <td>2016-12-06 00:00:00+00:00</td>\n",
              "      <td>185.85</td>\n",
              "      <td>186.5800</td>\n",
              "      <td>182.6825</td>\n",
              "      <td>185.52</td>\n",
              "      <td>3391622</td>\n",
              "      <td>37.170</td>\n",
              "      <td>37.3160</td>\n",
              "      <td>36.5365</td>\n",
              "      <td>37.104</td>\n",
              "      <td>16958110</td>\n",
              "      <td>0.0</td>\n",
              "      <td>1.0</td>\n",
              "    </tr>\n",
              "    <tr>\n",
              "      <th>3</th>\n",
              "      <td>TSLA</td>\n",
              "      <td>2016-12-07 00:00:00+00:00</td>\n",
              "      <td>193.15</td>\n",
              "      <td>193.4000</td>\n",
              "      <td>185.0000</td>\n",
              "      <td>186.15</td>\n",
              "      <td>5461851</td>\n",
              "      <td>38.630</td>\n",
              "      <td>38.6800</td>\n",
              "      <td>37.0000</td>\n",
              "      <td>37.230</td>\n",
              "      <td>27309255</td>\n",
              "      <td>0.0</td>\n",
              "      <td>1.0</td>\n",
              "    </tr>\n",
              "    <tr>\n",
              "      <th>4</th>\n",
              "      <td>TSLA</td>\n",
              "      <td>2016-12-08 00:00:00+00:00</td>\n",
              "      <td>192.29</td>\n",
              "      <td>192.5000</td>\n",
              "      <td>189.5400</td>\n",
              "      <td>192.05</td>\n",
              "      <td>3194148</td>\n",
              "      <td>38.458</td>\n",
              "      <td>38.5000</td>\n",
              "      <td>37.9080</td>\n",
              "      <td>38.410</td>\n",
              "      <td>15970740</td>\n",
              "      <td>0.0</td>\n",
              "      <td>1.0</td>\n",
              "    </tr>\n",
              "    <tr>\n",
              "      <th>...</th>\n",
              "      <td>...</td>\n",
              "      <td>...</td>\n",
              "      <td>...</td>\n",
              "      <td>...</td>\n",
              "      <td>...</td>\n",
              "      <td>...</td>\n",
              "      <td>...</td>\n",
              "      <td>...</td>\n",
              "      <td>...</td>\n",
              "      <td>...</td>\n",
              "      <td>...</td>\n",
              "      <td>...</td>\n",
              "      <td>...</td>\n",
              "      <td>...</td>\n",
              "    </tr>\n",
              "    <tr>\n",
              "      <th>1252</th>\n",
              "      <td>TSLA</td>\n",
              "      <td>2021-11-23 00:00:00+00:00</td>\n",
              "      <td>1109.03</td>\n",
              "      <td>1180.4999</td>\n",
              "      <td>1062.7000</td>\n",
              "      <td>1167.51</td>\n",
              "      <td>36171700</td>\n",
              "      <td>1109.030</td>\n",
              "      <td>1180.4999</td>\n",
              "      <td>1062.7000</td>\n",
              "      <td>1167.510</td>\n",
              "      <td>36171700</td>\n",
              "      <td>0.0</td>\n",
              "      <td>1.0</td>\n",
              "    </tr>\n",
              "    <tr>\n",
              "      <th>1253</th>\n",
              "      <td>TSLA</td>\n",
              "      <td>2021-11-24 00:00:00+00:00</td>\n",
              "      <td>1116.00</td>\n",
              "      <td>1132.7700</td>\n",
              "      <td>1062.0000</td>\n",
              "      <td>1080.39</td>\n",
              "      <td>22560238</td>\n",
              "      <td>1116.000</td>\n",
              "      <td>1132.7700</td>\n",
              "      <td>1062.0000</td>\n",
              "      <td>1080.390</td>\n",
              "      <td>22560238</td>\n",
              "      <td>0.0</td>\n",
              "      <td>1.0</td>\n",
              "    </tr>\n",
              "    <tr>\n",
              "      <th>1254</th>\n",
              "      <td>TSLA</td>\n",
              "      <td>2021-11-26 00:00:00+00:00</td>\n",
              "      <td>1081.92</td>\n",
              "      <td>1108.7827</td>\n",
              "      <td>1081.0000</td>\n",
              "      <td>1099.47</td>\n",
              "      <td>11680890</td>\n",
              "      <td>1081.920</td>\n",
              "      <td>1108.7827</td>\n",
              "      <td>1081.0000</td>\n",
              "      <td>1099.470</td>\n",
              "      <td>11680890</td>\n",
              "      <td>0.0</td>\n",
              "      <td>1.0</td>\n",
              "    </tr>\n",
              "    <tr>\n",
              "      <th>1255</th>\n",
              "      <td>TSLA</td>\n",
              "      <td>2021-11-29 00:00:00+00:00</td>\n",
              "      <td>1136.99</td>\n",
              "      <td>1142.6700</td>\n",
              "      <td>1100.1900</td>\n",
              "      <td>1100.99</td>\n",
              "      <td>19464467</td>\n",
              "      <td>1136.990</td>\n",
              "      <td>1142.6700</td>\n",
              "      <td>1100.1900</td>\n",
              "      <td>1100.990</td>\n",
              "      <td>19464467</td>\n",
              "      <td>0.0</td>\n",
              "      <td>1.0</td>\n",
              "    </tr>\n",
              "    <tr>\n",
              "      <th>1256</th>\n",
              "      <td>TSLA</td>\n",
              "      <td>2021-11-30 00:00:00+00:00</td>\n",
              "      <td>1144.76</td>\n",
              "      <td>1168.0000</td>\n",
              "      <td>1118.0000</td>\n",
              "      <td>1144.37</td>\n",
              "      <td>27092038</td>\n",
              "      <td>1144.760</td>\n",
              "      <td>1168.0000</td>\n",
              "      <td>1118.0000</td>\n",
              "      <td>1144.370</td>\n",
              "      <td>27092038</td>\n",
              "      <td>0.0</td>\n",
              "      <td>1.0</td>\n",
              "    </tr>\n",
              "  </tbody>\n",
              "</table>\n",
              "<p>1257 rows × 14 columns</p>\n",
              "</div>"
            ],
            "text/plain": [
              "     symbol                       date  ...  divCash  splitFactor\n",
              "0      TSLA  2016-12-02 00:00:00+00:00  ...      0.0          1.0\n",
              "1      TSLA  2016-12-05 00:00:00+00:00  ...      0.0          1.0\n",
              "2      TSLA  2016-12-06 00:00:00+00:00  ...      0.0          1.0\n",
              "3      TSLA  2016-12-07 00:00:00+00:00  ...      0.0          1.0\n",
              "4      TSLA  2016-12-08 00:00:00+00:00  ...      0.0          1.0\n",
              "...     ...                        ...  ...      ...          ...\n",
              "1252   TSLA  2021-11-23 00:00:00+00:00  ...      0.0          1.0\n",
              "1253   TSLA  2021-11-24 00:00:00+00:00  ...      0.0          1.0\n",
              "1254   TSLA  2021-11-26 00:00:00+00:00  ...      0.0          1.0\n",
              "1255   TSLA  2021-11-29 00:00:00+00:00  ...      0.0          1.0\n",
              "1256   TSLA  2021-11-30 00:00:00+00:00  ...      0.0          1.0\n",
              "\n",
              "[1257 rows x 14 columns]"
            ]
          },
          "metadata": {},
          "execution_count": 54
        }
      ]
    },
    {
      "cell_type": "code",
      "metadata": {
        "id": "iNQF0-p0fYuY"
      },
      "source": [
        "# We will consider only the closing price of the stock after \n",
        "data1=data.reset_index()[\"close\"]"
      ],
      "execution_count": null,
      "outputs": []
    },
    {
      "cell_type": "code",
      "metadata": {
        "colab": {
          "base_uri": "https://localhost:8080/"
        },
        "id": "ua0su2PPfpkn",
        "outputId": "f4c52443-a97c-44ec-c2ba-800314af2a4c"
      },
      "source": [
        "data1.shape"
      ],
      "execution_count": null,
      "outputs": [
        {
          "output_type": "execute_result",
          "data": {
            "text/plain": [
              "(1257,)"
            ]
          },
          "metadata": {},
          "execution_count": 56
        }
      ]
    },
    {
      "cell_type": "code",
      "metadata": {
        "id": "Kb1ufcB9gMD9"
      },
      "source": [
        "# Getting the data in the range of (0,1) using Min max scaler as LSTMS are sensitive to large input values\n",
        "scaler=MinMaxScaler(feature_range=(0,1))\n",
        "data1=scaler.fit_transform(np.array(data1).reshape(-1,1))"
      ],
      "execution_count": null,
      "outputs": []
    },
    {
      "cell_type": "code",
      "metadata": {
        "colab": {
          "base_uri": "https://localhost:8080/"
        },
        "id": "rdKn71lcGms6",
        "outputId": "99ceb0ec-2d97-480d-b0a0-ee9296c0a801"
      },
      "source": [
        "# as u can see the  data has been converted to an array\n",
        "data1"
      ],
      "execution_count": null,
      "outputs": [
        {
          "output_type": "execute_result",
          "data": {
            "text/plain": [
              "array([[0.00121372],\n",
              "       [0.00380138],\n",
              "       [0.00334016],\n",
              "       ...,\n",
              "       [0.43837206],\n",
              "       [0.46510792],\n",
              "       [0.46888017]])"
            ]
          },
          "metadata": {},
          "execution_count": 58
        }
      ]
    },
    {
      "cell_type": "code",
      "metadata": {
        "id": "CkEwf5gtGvxk"
      },
      "source": [
        "#We will make a 75:25 train test split \n",
        "training_size=int(len(data1)*0.75)\n",
        "test_size=len(data1)-training_size\n",
        "train_data,test_data=data1[0:training_size,:],data1[training_size:len(data1),:1]"
      ],
      "execution_count": null,
      "outputs": []
    },
    {
      "cell_type": "code",
      "metadata": {
        "colab": {
          "base_uri": "https://localhost:8080/"
        },
        "id": "78JPVHkgHTep",
        "outputId": "15560e67-00f3-4607-acb1-6c8d167f2752"
      },
      "source": [
        "train_data.shape,test_data.shape"
      ],
      "execution_count": null,
      "outputs": [
        {
          "output_type": "execute_result",
          "data": {
            "text/plain": [
              "((942, 1), (315, 1))"
            ]
          },
          "metadata": {},
          "execution_count": 62
        }
      ]
    },
    {
      "cell_type": "code",
      "metadata": {
        "id": "ROEHayGwHqMF"
      },
      "source": [
        "#Definig the Function to create training set and test set \n",
        "def create_dataset(dataset, time_step):\n",
        "\tdata_X, data_Y = [], []\n",
        "\tfor i in range(len(dataset)-time_step-1):\n",
        "\t\ta = dataset[i:(i+time_step), 0]  \n",
        "\t\tdata_X.append(a)\n",
        "\t\tdata_Y.append(dataset[i + time_step, 0])\n",
        "\treturn np.array(data_X), np.array(data_Y)"
      ],
      "execution_count": null,
      "outputs": []
    },
    {
      "cell_type": "code",
      "metadata": {
        "id": "Am6pnKTEIM1X"
      },
      "source": [
        "time_step = 100\n",
        "X_train, Y_train = create_dataset(train_data, time_step)\n",
        "X_test, Y_test = create_dataset(test_data, time_step)"
      ],
      "execution_count": null,
      "outputs": []
    },
    {
      "cell_type": "code",
      "metadata": {
        "id": "1giTyrZVI_RB"
      },
      "source": [
        "#An LSTM needs 3 inputs \n",
        "X_train =X_train.reshape(X_train.shape[0],X_train.shape[1] , 1)\n",
        "X_test = X_test.reshape(X_test.shape[0],X_test.shape[1] , 1)"
      ],
      "execution_count": null,
      "outputs": []
    },
    {
      "cell_type": "code",
      "metadata": {
        "id": "B_3xGoRQJLw9"
      },
      "source": [
        "#Creating a model with 3 LSTM layers \n",
        "model=Sequential()\n",
        "model.add(LSTM(50,return_sequences=True,input_shape=(100,1))) #Layer with 50 activation units\n",
        "model.add(LSTM(50,return_sequences=True))  #Layer with 50 activation units\n",
        "model.add(LSTM(65)) #Layer with 65 activation units\n",
        "model.add(Dense(1))\n",
        "#Specifying the type of loss and the optimizing Algorithm\n",
        "model.compile(loss='mean_squared_error',optimizer='adam')"
      ],
      "execution_count": null,
      "outputs": []
    },
    {
      "cell_type": "code",
      "metadata": {
        "colab": {
          "base_uri": "https://localhost:8080/"
        },
        "id": "MYKDi_wiJgEb",
        "outputId": "82b3de29-cf4d-4877-c240-faa9efa17b39"
      },
      "source": [
        "#Summary of the model \n",
        "model.summary()\n"
      ],
      "execution_count": null,
      "outputs": [
        {
          "output_type": "stream",
          "name": "stdout",
          "text": [
            "Model: \"sequential_1\"\n",
            "_________________________________________________________________\n",
            " Layer (type)                Output Shape              Param #   \n",
            "=================================================================\n",
            " lstm_3 (LSTM)               (None, 100, 50)           10400     \n",
            "                                                                 \n",
            " lstm_4 (LSTM)               (None, 100, 50)           20200     \n",
            "                                                                 \n",
            " lstm_5 (LSTM)               (None, 65)                30160     \n",
            "                                                                 \n",
            " dense_1 (Dense)             (None, 1)                 66        \n",
            "                                                                 \n",
            "=================================================================\n",
            "Total params: 60,826\n",
            "Trainable params: 60,826\n",
            "Non-trainable params: 0\n",
            "_________________________________________________________________\n"
          ]
        }
      ]
    },
    {
      "cell_type": "code",
      "metadata": {
        "colab": {
          "base_uri": "https://localhost:8080/"
        },
        "id": "o8crBJitJ6OZ",
        "outputId": "8580698f-75e9-49c5-8d79-db0931fbaddf"
      },
      "source": [
        "model.fit(X_train,Y_train,validation_data=(X_test,Y_test),epochs=100,batch_size=10,verbose=1)"
      ],
      "execution_count": null,
      "outputs": [
        {
          "output_type": "stream",
          "name": "stdout",
          "text": [
            "Epoch 1/100\n",
            "85/85 [==============================] - 12s 142ms/step - loss: 0.0048 - val_loss: 0.0016\n",
            "Epoch 2/100\n",
            "85/85 [==============================] - 11s 128ms/step - loss: 0.0014 - val_loss: 0.0075\n",
            "Epoch 3/100\n",
            "85/85 [==============================] - 11s 127ms/step - loss: 0.0017 - val_loss: 0.0030\n",
            "Epoch 4/100\n",
            "85/85 [==============================] - 11s 127ms/step - loss: 0.0016 - val_loss: 0.0011\n",
            "Epoch 5/100\n",
            "85/85 [==============================] - 11s 127ms/step - loss: 9.8566e-04 - val_loss: 0.0061\n",
            "Epoch 6/100\n",
            "85/85 [==============================] - 11s 127ms/step - loss: 0.0012 - val_loss: 8.4651e-04\n",
            "Epoch 7/100\n",
            "85/85 [==============================] - 11s 126ms/step - loss: 6.6617e-04 - val_loss: 7.0593e-04\n",
            "Epoch 8/100\n",
            "85/85 [==============================] - 11s 126ms/step - loss: 8.1895e-04 - val_loss: 7.4996e-04\n",
            "Epoch 9/100\n",
            "85/85 [==============================] - 11s 127ms/step - loss: 6.1234e-04 - val_loss: 6.6368e-04\n",
            "Epoch 10/100\n",
            "85/85 [==============================] - 11s 127ms/step - loss: 5.3883e-04 - val_loss: 8.7051e-04\n",
            "Epoch 11/100\n",
            "85/85 [==============================] - 11s 126ms/step - loss: 4.6311e-04 - val_loss: 6.6776e-04\n",
            "Epoch 12/100\n",
            "85/85 [==============================] - 11s 127ms/step - loss: 4.9891e-04 - val_loss: 0.0017\n",
            "Epoch 13/100\n",
            "85/85 [==============================] - 11s 127ms/step - loss: 4.5597e-04 - val_loss: 0.0016\n",
            "Epoch 14/100\n",
            "85/85 [==============================] - 11s 128ms/step - loss: 4.6932e-04 - val_loss: 8.4062e-04\n",
            "Epoch 15/100\n",
            "85/85 [==============================] - 11s 128ms/step - loss: 4.4133e-04 - val_loss: 6.2581e-04\n",
            "Epoch 16/100\n",
            "85/85 [==============================] - 11s 127ms/step - loss: 4.7570e-04 - val_loss: 0.0011\n",
            "Epoch 17/100\n",
            "85/85 [==============================] - 11s 129ms/step - loss: 5.2759e-04 - val_loss: 4.9738e-04\n",
            "Epoch 18/100\n",
            "85/85 [==============================] - 13s 153ms/step - loss: 4.4561e-04 - val_loss: 6.3536e-04\n",
            "Epoch 19/100\n",
            "85/85 [==============================] - 11s 128ms/step - loss: 4.6281e-04 - val_loss: 6.3029e-04\n",
            "Epoch 20/100\n",
            "85/85 [==============================] - 11s 128ms/step - loss: 4.7279e-04 - val_loss: 6.8417e-04\n",
            "Epoch 21/100\n",
            "85/85 [==============================] - 11s 129ms/step - loss: 4.2575e-04 - val_loss: 9.5282e-04\n",
            "Epoch 22/100\n",
            "85/85 [==============================] - 11s 127ms/step - loss: 5.0880e-04 - val_loss: 6.9520e-04\n",
            "Epoch 23/100\n",
            "85/85 [==============================] - 11s 129ms/step - loss: 3.7566e-04 - val_loss: 3.7519e-04\n",
            "Epoch 24/100\n",
            "85/85 [==============================] - 11s 128ms/step - loss: 5.7358e-04 - val_loss: 4.1429e-04\n",
            "Epoch 25/100\n",
            "85/85 [==============================] - 11s 128ms/step - loss: 4.0531e-04 - val_loss: 6.3576e-04\n",
            "Epoch 26/100\n",
            "85/85 [==============================] - 11s 129ms/step - loss: 3.9739e-04 - val_loss: 3.3719e-04\n",
            "Epoch 27/100\n",
            "85/85 [==============================] - 11s 127ms/step - loss: 2.9566e-04 - val_loss: 3.2822e-04\n",
            "Epoch 28/100\n",
            "85/85 [==============================] - 11s 127ms/step - loss: 3.0415e-04 - val_loss: 4.2304e-04\n",
            "Epoch 29/100\n",
            "85/85 [==============================] - 11s 127ms/step - loss: 4.5057e-04 - val_loss: 3.6300e-04\n",
            "Epoch 30/100\n",
            "85/85 [==============================] - 11s 129ms/step - loss: 3.3102e-04 - val_loss: 3.8526e-04\n",
            "Epoch 31/100\n",
            "85/85 [==============================] - 11s 128ms/step - loss: 3.1083e-04 - val_loss: 8.8007e-04\n",
            "Epoch 32/100\n",
            "85/85 [==============================] - 11s 127ms/step - loss: 2.6764e-04 - val_loss: 2.4378e-04\n",
            "Epoch 33/100\n",
            "85/85 [==============================] - 11s 128ms/step - loss: 2.5434e-04 - val_loss: 2.7985e-04\n",
            "Epoch 34/100\n",
            "85/85 [==============================] - 11s 128ms/step - loss: 2.9566e-04 - val_loss: 2.2393e-04\n",
            "Epoch 35/100\n",
            "85/85 [==============================] - 11s 128ms/step - loss: 2.4245e-04 - val_loss: 2.2632e-04\n",
            "Epoch 36/100\n",
            "85/85 [==============================] - 11s 127ms/step - loss: 2.0892e-04 - val_loss: 2.4040e-04\n",
            "Epoch 37/100\n",
            "85/85 [==============================] - 11s 129ms/step - loss: 2.0268e-04 - val_loss: 4.2871e-04\n",
            "Epoch 38/100\n",
            "85/85 [==============================] - 11s 126ms/step - loss: 2.4799e-04 - val_loss: 3.1822e-04\n",
            "Epoch 39/100\n",
            "85/85 [==============================] - 11s 128ms/step - loss: 2.3569e-04 - val_loss: 3.2207e-04\n",
            "Epoch 40/100\n",
            "85/85 [==============================] - 11s 127ms/step - loss: 2.2319e-04 - val_loss: 9.7153e-04\n",
            "Epoch 41/100\n",
            "85/85 [==============================] - 11s 127ms/step - loss: 2.3123e-04 - val_loss: 3.8822e-04\n",
            "Epoch 42/100\n",
            "85/85 [==============================] - 11s 128ms/step - loss: 2.3385e-04 - val_loss: 1.8773e-04\n",
            "Epoch 43/100\n",
            "85/85 [==============================] - 11s 127ms/step - loss: 2.3565e-04 - val_loss: 1.8051e-04\n",
            "Epoch 44/100\n",
            "85/85 [==============================] - 11s 127ms/step - loss: 1.9565e-04 - val_loss: 2.3527e-04\n",
            "Epoch 45/100\n",
            "85/85 [==============================] - 11s 128ms/step - loss: 2.1432e-04 - val_loss: 3.0917e-04\n",
            "Epoch 46/100\n",
            "85/85 [==============================] - 11s 128ms/step - loss: 2.1061e-04 - val_loss: 3.0074e-04\n",
            "Epoch 47/100\n",
            "85/85 [==============================] - 11s 128ms/step - loss: 2.8039e-04 - val_loss: 2.6167e-04\n",
            "Epoch 48/100\n",
            "85/85 [==============================] - 11s 129ms/step - loss: 2.1560e-04 - val_loss: 2.3151e-04\n",
            "Epoch 49/100\n",
            "85/85 [==============================] - 11s 128ms/step - loss: 2.4941e-04 - val_loss: 4.8998e-04\n",
            "Epoch 50/100\n",
            "85/85 [==============================] - 11s 127ms/step - loss: 1.8165e-04 - val_loss: 1.7429e-04\n",
            "Epoch 51/100\n",
            "85/85 [==============================] - 11s 127ms/step - loss: 2.6622e-04 - val_loss: 2.4676e-04\n",
            "Epoch 52/100\n",
            "85/85 [==============================] - 11s 128ms/step - loss: 2.4303e-04 - val_loss: 1.8565e-04\n",
            "Epoch 53/100\n",
            "85/85 [==============================] - 11s 130ms/step - loss: 1.7587e-04 - val_loss: 4.4148e-04\n",
            "Epoch 54/100\n",
            "85/85 [==============================] - 11s 129ms/step - loss: 2.0351e-04 - val_loss: 2.7333e-04\n",
            "Epoch 55/100\n",
            "85/85 [==============================] - 11s 127ms/step - loss: 2.0484e-04 - val_loss: 2.6104e-04\n",
            "Epoch 56/100\n",
            "85/85 [==============================] - 11s 127ms/step - loss: 1.9580e-04 - val_loss: 2.2478e-04\n",
            "Epoch 57/100\n",
            "85/85 [==============================] - 11s 128ms/step - loss: 1.9239e-04 - val_loss: 3.5238e-04\n",
            "Epoch 58/100\n",
            "85/85 [==============================] - 11s 128ms/step - loss: 1.8999e-04 - val_loss: 1.7163e-04\n",
            "Epoch 59/100\n",
            "85/85 [==============================] - 11s 128ms/step - loss: 1.7217e-04 - val_loss: 3.3777e-04\n",
            "Epoch 60/100\n",
            "85/85 [==============================] - 11s 128ms/step - loss: 2.4065e-04 - val_loss: 3.3618e-04\n",
            "Epoch 61/100\n",
            "85/85 [==============================] - 11s 128ms/step - loss: 2.6123e-04 - val_loss: 1.8267e-04\n",
            "Epoch 62/100\n",
            "85/85 [==============================] - 11s 127ms/step - loss: 1.7010e-04 - val_loss: 5.5545e-04\n",
            "Epoch 63/100\n",
            "85/85 [==============================] - 11s 128ms/step - loss: 1.9181e-04 - val_loss: 1.7245e-04\n",
            "Epoch 64/100\n",
            "85/85 [==============================] - 11s 131ms/step - loss: 3.0844e-04 - val_loss: 2.0040e-04\n",
            "Epoch 65/100\n",
            "85/85 [==============================] - 11s 128ms/step - loss: 1.9597e-04 - val_loss: 1.9629e-04\n",
            "Epoch 66/100\n",
            "85/85 [==============================] - 11s 128ms/step - loss: 1.7928e-04 - val_loss: 1.7614e-04\n",
            "Epoch 67/100\n",
            "85/85 [==============================] - 11s 128ms/step - loss: 2.0602e-04 - val_loss: 3.4376e-04\n",
            "Epoch 68/100\n",
            "85/85 [==============================] - 11s 129ms/step - loss: 1.6744e-04 - val_loss: 1.8727e-04\n",
            "Epoch 69/100\n",
            "85/85 [==============================] - 11s 128ms/step - loss: 1.9065e-04 - val_loss: 1.7903e-04\n",
            "Epoch 70/100\n",
            "85/85 [==============================] - 11s 130ms/step - loss: 2.1976e-04 - val_loss: 1.9220e-04\n",
            "Epoch 71/100\n",
            "85/85 [==============================] - 11s 129ms/step - loss: 1.8702e-04 - val_loss: 2.0224e-04\n",
            "Epoch 72/100\n",
            "85/85 [==============================] - 11s 127ms/step - loss: 2.2487e-04 - val_loss: 1.9027e-04\n",
            "Epoch 73/100\n",
            "85/85 [==============================] - 11s 129ms/step - loss: 2.1971e-04 - val_loss: 1.8006e-04\n",
            "Epoch 74/100\n",
            "85/85 [==============================] - 11s 128ms/step - loss: 2.0228e-04 - val_loss: 2.0628e-04\n",
            "Epoch 75/100\n",
            "85/85 [==============================] - 11s 129ms/step - loss: 2.1897e-04 - val_loss: 1.8592e-04\n",
            "Epoch 76/100\n",
            "85/85 [==============================] - 11s 128ms/step - loss: 2.0235e-04 - val_loss: 2.1434e-04\n",
            "Epoch 77/100\n",
            "85/85 [==============================] - 11s 128ms/step - loss: 1.6380e-04 - val_loss: 2.4296e-04\n",
            "Epoch 78/100\n",
            "85/85 [==============================] - 11s 128ms/step - loss: 2.0043e-04 - val_loss: 1.9960e-04\n",
            "Epoch 79/100\n",
            "85/85 [==============================] - 11s 129ms/step - loss: 2.2694e-04 - val_loss: 1.9973e-04\n",
            "Epoch 80/100\n",
            "85/85 [==============================] - 11s 128ms/step - loss: 1.7932e-04 - val_loss: 2.0641e-04\n",
            "Epoch 81/100\n",
            "85/85 [==============================] - 11s 130ms/step - loss: 2.8452e-04 - val_loss: 2.0146e-04\n",
            "Epoch 82/100\n",
            "85/85 [==============================] - 11s 128ms/step - loss: 2.0483e-04 - val_loss: 3.4215e-04\n",
            "Epoch 83/100\n",
            "85/85 [==============================] - 11s 128ms/step - loss: 2.0789e-04 - val_loss: 1.8440e-04\n",
            "Epoch 84/100\n",
            "85/85 [==============================] - 11s 127ms/step - loss: 1.7607e-04 - val_loss: 1.8261e-04\n",
            "Epoch 85/100\n",
            "85/85 [==============================] - 11s 127ms/step - loss: 1.7653e-04 - val_loss: 1.7946e-04\n",
            "Epoch 86/100\n",
            "85/85 [==============================] - 11s 129ms/step - loss: 1.6952e-04 - val_loss: 3.5692e-04\n",
            "Epoch 87/100\n",
            "85/85 [==============================] - 11s 130ms/step - loss: 2.0621e-04 - val_loss: 2.2941e-04\n",
            "Epoch 88/100\n",
            "85/85 [==============================] - 11s 128ms/step - loss: 1.8533e-04 - val_loss: 1.7982e-04\n",
            "Epoch 89/100\n",
            "85/85 [==============================] - 11s 129ms/step - loss: 1.6488e-04 - val_loss: 1.8126e-04\n",
            "Epoch 90/100\n",
            "85/85 [==============================] - 11s 129ms/step - loss: 1.7588e-04 - val_loss: 1.8341e-04\n",
            "Epoch 91/100\n",
            "85/85 [==============================] - 11s 130ms/step - loss: 1.6702e-04 - val_loss: 3.9766e-04\n",
            "Epoch 92/100\n",
            "85/85 [==============================] - 11s 129ms/step - loss: 3.3689e-04 - val_loss: 1.7117e-04\n",
            "Epoch 93/100\n",
            "85/85 [==============================] - 11s 129ms/step - loss: 1.9425e-04 - val_loss: 6.4980e-04\n",
            "Epoch 94/100\n",
            "85/85 [==============================] - 11s 128ms/step - loss: 2.1556e-04 - val_loss: 8.2630e-04\n",
            "Epoch 95/100\n",
            "85/85 [==============================] - 11s 128ms/step - loss: 2.1257e-04 - val_loss: 5.2034e-04\n",
            "Epoch 96/100\n",
            "85/85 [==============================] - 11s 128ms/step - loss: 2.0820e-04 - val_loss: 1.8797e-04\n",
            "Epoch 97/100\n",
            "85/85 [==============================] - 11s 128ms/step - loss: 2.6224e-04 - val_loss: 2.8154e-04\n",
            "Epoch 98/100\n",
            "85/85 [==============================] - 11s 128ms/step - loss: 1.6041e-04 - val_loss: 2.7366e-04\n",
            "Epoch 99/100\n",
            "85/85 [==============================] - 11s 129ms/step - loss: 2.4455e-04 - val_loss: 1.9262e-04\n",
            "Epoch 100/100\n",
            "85/85 [==============================] - 11s 128ms/step - loss: 1.8290e-04 - val_loss: 1.8197e-04\n"
          ]
        },
        {
          "output_type": "execute_result",
          "data": {
            "text/plain": [
              "<keras.callbacks.History at 0x7f65d79cfc50>"
            ]
          },
          "metadata": {},
          "execution_count": 71
        }
      ]
    },
    {
      "cell_type": "code",
      "metadata": {
        "id": "gnXhoDgBKG14"
      },
      "source": [
        "train_predict=model.predict(X_train)\n",
        "test_predict=model.predict(X_test)"
      ],
      "execution_count": null,
      "outputs": []
    },
    {
      "cell_type": "code",
      "metadata": {
        "id": "Kz-IULg_Qlb1"
      },
      "source": [
        "#Scaling the predicting data back to the original range \n",
        "train_predict=scaler.inverse_transform(train_predict)\n",
        "test_predict=scaler.inverse_transform(test_predict)"
      ],
      "execution_count": null,
      "outputs": []
    },
    {
      "cell_type": "code",
      "metadata": {
        "colab": {
          "base_uri": "https://localhost:8080/"
        },
        "id": "Ikg6WoA6Qv73",
        "outputId": "eef0a0ae-1ba6-4f60-b8b1-d4f6ad8a210a"
      },
      "source": [
        "# Getting the error in our predictions \n",
        "print(math.sqrt(mean_squared_error(Y_train,train_predict)))\n",
        "print(math.sqrt(mean_squared_error(Y_test,test_predict)))"
      ],
      "execution_count": null,
      "outputs": [
        {
          "output_type": "stream",
          "name": "stdout",
          "text": [
            "529.4482758441019\n",
            "758.7435851046544\n"
          ]
        }
      ]
    },
    {
      "cell_type": "code",
      "metadata": {
        "colab": {
          "base_uri": "https://localhost:8080/",
          "height": 265
        },
        "id": "YL-LY5yZRE_I",
        "outputId": "969d4595-f472-4073-c979-f2ffbcdb560b"
      },
      "source": [
        "### Plotting \n",
        "# Green indicates test predictions , Blue indicates original data,orange indicates train predictions.\n",
        "look_back=100\n",
        "trainPredictPlot = np.empty_like(data1)\n",
        "trainPredictPlot[:, :] = np.nan\n",
        "trainPredictPlot[look_back:len(train_predict)+look_back, :] = train_predict\n",
        "# shift test predictions for plotting\n",
        "testPredictPlot = np.empty_like(data1)\n",
        "testPredictPlot[:, :] = np.nan\n",
        "testPredictPlot[len(train_predict)+(look_back*2)+1:len(data1)-1, :] = test_predict\n",
        "# plot the original stock graph  and  the train and test predictions \n",
        "plt.plot(scaler.inverse_transform(data1))\n",
        "plt.plot(trainPredictPlot)\n",
        "plt.plot(testPredictPlot)\n",
        "plt.show()"
      ],
      "execution_count": null,
      "outputs": [
        {
          "output_type": "display_data",
          "data": {
            "image/png": "[encoded data removed]",
            "text/plain": [
              "<Figure size 432x288 with 1 Axes>"
            ]
          },
          "metadata": {
            "needs_background": "light"
          }
        }
      ]
    },
    {
      "cell_type": "code",
      "metadata": {
        "colab": {
          "base_uri": "https://localhost:8080/"
        },
        "id": "DfLiSiCcSWBF",
        "outputId": "4bc26836-ad7e-4013-c16e-e655806c2779"
      },
      "source": [
        "X_input=test_data[215:].reshape(1,-1)\n",
        "X_input.shape"
      ],
      "execution_count": null,
      "outputs": [
        {
          "output_type": "execute_result",
          "data": {
            "text/plain": [
              "(1, 100)"
            ]
          },
          "metadata": {},
          "execution_count": 85
        }
      ]
    },
    {
      "cell_type": "code",
      "metadata": {
        "id": "L-7TmYkiSk1i"
      },
      "source": [
        "temp_input=list(X_input)\n",
        "temp_input=temp_input[0].tolist()"
      ],
      "execution_count": null,
      "outputs": []
    },
    {
      "cell_type": "code",
      "metadata": {
        "colab": {
          "base_uri": "https://localhost:8080/"
        },
        "id": "Y0gQgtgOSw5s",
        "outputId": "57d03a1d-180d-44f1-8e86-9d29bb97caf5"
      },
      "source": [
        "# demonstrate prediction for next 30 days\n",
        "\n",
        "output=[] #List to store output of price over next 30 days\n",
        "n_steps=100\n",
        "i=0\n",
        "while(i<30):\n",
        "    #After the first prediction\n",
        "    if(len(temp_input)>100) :\n",
        "        X_input=np.array(temp_input[1:])\n",
        "        print(f\"{i} day input {X_input}\")\n",
        "        X_input=X_input.reshape(1,-1)\n",
        "        X_input = X_input.reshape((1, n_steps, 1))\n",
        "        yhat = model.predict(X_input, verbose=0)\n",
        "        print(f\"{i} day output {yhat}\")\n",
        "        temp_input.extend(yhat[0].tolist())\n",
        "        temp_input=temp_input[1:]\n",
        "        output.extend(yhat.tolist())\n",
        "        i=i+1\n",
        "    else:\n",
        "        X_input = X_input.reshape((1, n_steps,1))\n",
        "        yhat = model.predict(X_input, verbose=0)\n",
        "        #First Prediction\n",
        "        print(yhat[0])\n",
        "        temp_input.extend(yhat[0].tolist())\n",
        "        print(len(temp_input))\n",
        "        output.extend(yhat.tolist())\n",
        "        i=i+1\n",
        "    \n",
        "\n"
      ],
      "execution_count": null,
      "outputs": [
        {
          "output_type": "stream",
          "name": "stdout",
          "text": [
            "[0.46471715]\n",
            "101\n",
            "1 day input [0.23768072 0.23032071 0.22897106 0.22587364 0.22684461 0.23377739\n",
            " 0.231248   0.2283205  0.22546583 0.23237919 0.22614551 0.22721359\n",
            " 0.24195788 0.24673994 0.25764888 0.25768286 0.25825574 0.2600569\n",
            " 0.25251726 0.25963452 0.25780423 0.25675072 0.26375632 0.26129004\n",
            " 0.24623989 0.23630679 0.24760897 0.24007418 0.24337065 0.25601278\n",
            " 0.257076   0.25839167 0.25351737 0.25874122 0.26796066 0.27029586\n",
            " 0.26950451 0.26867918 0.26925206 0.27864626 0.27910748 0.27958811\n",
            " 0.27056288 0.27383021 0.27455359 0.28005904 0.2806222  0.28183592\n",
            " 0.26760139 0.27207275 0.27817048 0.27899582 0.28906971 0.29730845\n",
            " 0.29060871 0.29242929 0.28959889 0.28947266 0.2925361  0.29207974\n",
            " 0.29312839 0.2984008  0.29445863 0.29759003 0.30428007 0.30688229\n",
            " 0.31039723 0.32239365 0.33554069 0.33270543 0.33344823 0.34713901\n",
            " 0.35475148 0.41067007 0.40754838 0.41698143 0.43600287 0.45394654\n",
            " 0.49986892 0.48210488 0.50242744 0.51021954 0.50642302 0.47770636\n",
            " 0.41000981 0.43158978 0.42943421 0.41482586 0.40510152 0.42517162\n",
            " 0.44181417 0.44539223 0.46514191 0.47475944 0.45153366 0.45491752\n",
            " 0.43837206 0.46510792 0.46888017 0.46471715]\n",
            "1 day output [[0.47254395]]\n",
            "2 day input [0.23032071 0.22897106 0.22587364 0.22684461 0.23377739 0.231248\n",
            " 0.2283205  0.22546583 0.23237919 0.22614551 0.22721359 0.24195788\n",
            " 0.24673994 0.25764888 0.25768286 0.25825574 0.2600569  0.25251726\n",
            " 0.25963452 0.25780423 0.25675072 0.26375632 0.26129004 0.24623989\n",
            " 0.23630679 0.24760897 0.24007418 0.24337065 0.25601278 0.257076\n",
            " 0.25839167 0.25351737 0.25874122 0.26796066 0.27029586 0.26950451\n",
            " 0.26867918 0.26925206 0.27864626 0.27910748 0.27958811 0.27056288\n",
            " 0.27383021 0.27455359 0.28005904 0.2806222  0.28183592 0.26760139\n",
            " 0.27207275 0.27817048 0.27899582 0.28906971 0.29730845 0.29060871\n",
            " 0.29242929 0.28959889 0.28947266 0.2925361  0.29207974 0.29312839\n",
            " 0.2984008  0.29445863 0.29759003 0.30428007 0.30688229 0.31039723\n",
            " 0.32239365 0.33554069 0.33270543 0.33344823 0.34713901 0.35475148\n",
            " 0.41067007 0.40754838 0.41698143 0.43600287 0.45394654 0.49986892\n",
            " 0.48210488 0.50242744 0.51021954 0.50642302 0.47770636 0.41000981\n",
            " 0.43158978 0.42943421 0.41482586 0.40510152 0.42517162 0.44181417\n",
            " 0.44539223 0.46514191 0.47475944 0.45153366 0.45491752 0.43837206\n",
            " 0.46510792 0.46888017 0.46471715 0.47254395]\n",
            "2 day output [[0.47795615]]\n",
            "3 day input [0.22897106 0.22587364 0.22684461 0.23377739 0.231248   0.2283205\n",
            " 0.22546583 0.23237919 0.22614551 0.22721359 0.24195788 0.24673994\n",
            " 0.25764888 0.25768286 0.25825574 0.2600569  0.25251726 0.25963452\n",
            " 0.25780423 0.25675072 0.26375632 0.26129004 0.24623989 0.23630679\n",
            " 0.24760897 0.24007418 0.24337065 0.25601278 0.257076   0.25839167\n",
            " 0.25351737 0.25874122 0.26796066 0.27029586 0.26950451 0.26867918\n",
            " 0.26925206 0.27864626 0.27910748 0.27958811 0.27056288 0.27383021\n",
            " 0.27455359 0.28005904 0.2806222  0.28183592 0.26760139 0.27207275\n",
            " 0.27817048 0.27899582 0.28906971 0.29730845 0.29060871 0.29242929\n",
            " 0.28959889 0.28947266 0.2925361  0.29207974 0.29312839 0.2984008\n",
            " 0.29445863 0.29759003 0.30428007 0.30688229 0.31039723 0.32239365\n",
            " 0.33554069 0.33270543 0.33344823 0.34713901 0.35475148 0.41067007\n",
            " 0.40754838 0.41698143 0.43600287 0.45394654 0.49986892 0.48210488\n",
            " 0.50242744 0.51021954 0.50642302 0.47770636 0.41000981 0.43158978\n",
            " 0.42943421 0.41482586 0.40510152 0.42517162 0.44181417 0.44539223\n",
            " 0.46514191 0.47475944 0.45153366 0.45491752 0.43837206 0.46510792\n",
            " 0.46888017 0.46471715 0.47254395 0.47795615]\n",
            "3 day output [[0.4844916]]\n",
            "4 day input [0.22587364 0.22684461 0.23377739 0.231248   0.2283205  0.22546583\n",
            " 0.23237919 0.22614551 0.22721359 0.24195788 0.24673994 0.25764888\n",
            " 0.25768286 0.25825574 0.2600569  0.25251726 0.25963452 0.25780423\n",
            " 0.25675072 0.26375632 0.26129004 0.24623989 0.23630679 0.24760897\n",
            " 0.24007418 0.24337065 0.25601278 0.257076   0.25839167 0.25351737\n",
            " 0.25874122 0.26796066 0.27029586 0.26950451 0.26867918 0.26925206\n",
            " 0.27864626 0.27910748 0.27958811 0.27056288 0.27383021 0.27455359\n",
            " 0.28005904 0.2806222  0.28183592 0.26760139 0.27207275 0.27817048\n",
            " 0.27899582 0.28906971 0.29730845 0.29060871 0.29242929 0.28959889\n",
            " 0.28947266 0.2925361  0.29207974 0.29312839 0.2984008  0.29445863\n",
            " 0.29759003 0.30428007 0.30688229 0.31039723 0.32239365 0.33554069\n",
            " 0.33270543 0.33344823 0.34713901 0.35475148 0.41067007 0.40754838\n",
            " 0.41698143 0.43600287 0.45394654 0.49986892 0.48210488 0.50242744\n",
            " 0.51021954 0.50642302 0.47770636 0.41000981 0.43158978 0.42943421\n",
            " 0.41482586 0.40510152 0.42517162 0.44181417 0.44539223 0.46514191\n",
            " 0.47475944 0.45153366 0.45491752 0.43837206 0.46510792 0.46888017\n",
            " 0.46471715 0.47254395 0.47795615 0.48449159]\n",
            "4 day output [[0.49037817]]\n",
            "5 day input [0.22684461 0.23377739 0.231248   0.2283205  0.22546583 0.23237919\n",
            " 0.22614551 0.22721359 0.24195788 0.24673994 0.25764888 0.25768286\n",
            " 0.25825574 0.2600569  0.25251726 0.25963452 0.25780423 0.25675072\n",
            " 0.26375632 0.26129004 0.24623989 0.23630679 0.24760897 0.24007418\n",
            " 0.24337065 0.25601278 0.257076   0.25839167 0.25351737 0.25874122\n",
            " 0.26796066 0.27029586 0.26950451 0.26867918 0.26925206 0.27864626\n",
            " 0.27910748 0.27958811 0.27056288 0.27383021 0.27455359 0.28005904\n",
            " 0.2806222  0.28183592 0.26760139 0.27207275 0.27817048 0.27899582\n",
            " 0.28906971 0.29730845 0.29060871 0.29242929 0.28959889 0.28947266\n",
            " 0.2925361  0.29207974 0.29312839 0.2984008  0.29445863 0.29759003\n",
            " 0.30428007 0.30688229 0.31039723 0.32239365 0.33554069 0.33270543\n",
            " 0.33344823 0.34713901 0.35475148 0.41067007 0.40754838 0.41698143\n",
            " 0.43600287 0.45394654 0.49986892 0.48210488 0.50242744 0.51021954\n",
            " 0.50642302 0.47770636 0.41000981 0.43158978 0.42943421 0.41482586\n",
            " 0.40510152 0.42517162 0.44181417 0.44539223 0.46514191 0.47475944\n",
            " 0.45153366 0.45491752 0.43837206 0.46510792 0.46888017 0.46471715\n",
            " 0.47254395 0.47795615 0.48449159 0.49037817]\n",
            "5 day output [[0.49557865]]\n",
            "6 day input [0.23377739 0.231248   0.2283205  0.22546583 0.23237919 0.22614551\n",
            " 0.22721359 0.24195788 0.24673994 0.25764888 0.25768286 0.25825574\n",
            " 0.2600569  0.25251726 0.25963452 0.25780423 0.25675072 0.26375632\n",
            " 0.26129004 0.24623989 0.23630679 0.24760897 0.24007418 0.24337065\n",
            " 0.25601278 0.257076   0.25839167 0.25351737 0.25874122 0.26796066\n",
            " 0.27029586 0.26950451 0.26867918 0.26925206 0.27864626 0.27910748\n",
            " 0.27958811 0.27056288 0.27383021 0.27455359 0.28005904 0.2806222\n",
            " 0.28183592 0.26760139 0.27207275 0.27817048 0.27899582 0.28906971\n",
            " 0.29730845 0.29060871 0.29242929 0.28959889 0.28947266 0.2925361\n",
            " 0.29207974 0.29312839 0.2984008  0.29445863 0.29759003 0.30428007\n",
            " 0.30688229 0.31039723 0.32239365 0.33554069 0.33270543 0.33344823\n",
            " 0.34713901 0.35475148 0.41067007 0.40754838 0.41698143 0.43600287\n",
            " 0.45394654 0.49986892 0.48210488 0.50242744 0.51021954 0.50642302\n",
            " 0.47770636 0.41000981 0.43158978 0.42943421 0.41482586 0.40510152\n",
            " 0.42517162 0.44181417 0.44539223 0.46514191 0.47475944 0.45153366\n",
            " 0.45491752 0.43837206 0.46510792 0.46888017 0.46471715 0.47254395\n",
            " 0.47795615 0.48449159 0.49037817 0.49557865]\n",
            "6 day output [[0.49982867]]\n",
            "7 day input [0.231248   0.2283205  0.22546583 0.23237919 0.22614551 0.22721359\n",
            " 0.24195788 0.24673994 0.25764888 0.25768286 0.25825574 0.2600569\n",
            " 0.25251726 0.25963452 0.25780423 0.25675072 0.26375632 0.26129004\n",
            " 0.24623989 0.23630679 0.24760897 0.24007418 0.24337065 0.25601278\n",
            " 0.257076   0.25839167 0.25351737 0.25874122 0.26796066 0.27029586\n",
            " 0.26950451 0.26867918 0.26925206 0.27864626 0.27910748 0.27958811\n",
            " 0.27056288 0.27383021 0.27455359 0.28005904 0.2806222  0.28183592\n",
            " 0.26760139 0.27207275 0.27817048 0.27899582 0.28906971 0.29730845\n",
            " 0.29060871 0.29242929 0.28959889 0.28947266 0.2925361  0.29207974\n",
            " 0.29312839 0.2984008  0.29445863 0.29759003 0.30428007 0.30688229\n",
            " 0.31039723 0.32239365 0.33554069 0.33270543 0.33344823 0.34713901\n",
            " 0.35475148 0.41067007 0.40754838 0.41698143 0.43600287 0.45394654\n",
            " 0.49986892 0.48210488 0.50242744 0.51021954 0.50642302 0.47770636\n",
            " 0.41000981 0.43158978 0.42943421 0.41482586 0.40510152 0.42517162\n",
            " 0.44181417 0.44539223 0.46514191 0.47475944 0.45153366 0.45491752\n",
            " 0.43837206 0.46510792 0.46888017 0.46471715 0.47254395 0.47795615\n",
            " 0.48449159 0.49037817 0.49557865 0.49982867]\n",
            "7 day output [[0.5032363]]\n",
            "8 day input [0.2283205  0.22546583 0.23237919 0.22614551 0.22721359 0.24195788\n",
            " 0.24673994 0.25764888 0.25768286 0.25825574 0.2600569  0.25251726\n",
            " 0.25963452 0.25780423 0.25675072 0.26375632 0.26129004 0.24623989\n",
            " 0.23630679 0.24760897 0.24007418 0.24337065 0.25601278 0.257076\n",
            " 0.25839167 0.25351737 0.25874122 0.26796066 0.27029586 0.26950451\n",
            " 0.26867918 0.26925206 0.27864626 0.27910748 0.27958811 0.27056288\n",
            " 0.27383021 0.27455359 0.28005904 0.2806222  0.28183592 0.26760139\n",
            " 0.27207275 0.27817048 0.27899582 0.28906971 0.29730845 0.29060871\n",
            " 0.29242929 0.28959889 0.28947266 0.2925361  0.29207974 0.29312839\n",
            " 0.2984008  0.29445863 0.29759003 0.30428007 0.30688229 0.31039723\n",
            " 0.32239365 0.33554069 0.33270543 0.33344823 0.34713901 0.35475148\n",
            " 0.41067007 0.40754838 0.41698143 0.43600287 0.45394654 0.49986892\n",
            " 0.48210488 0.50242744 0.51021954 0.50642302 0.47770636 0.41000981\n",
            " 0.43158978 0.42943421 0.41482586 0.40510152 0.42517162 0.44181417\n",
            " 0.44539223 0.46514191 0.47475944 0.45153366 0.45491752 0.43837206\n",
            " 0.46510792 0.46888017 0.46471715 0.47254395 0.47795615 0.48449159\n",
            " 0.49037817 0.49557865 0.49982867 0.50323629]\n",
            "8 day output [[0.50600415]]\n",
            "9 day input [0.22546583 0.23237919 0.22614551 0.22721359 0.24195788 0.24673994\n",
            " 0.25764888 0.25768286 0.25825574 0.2600569  0.25251726 0.25963452\n",
            " 0.25780423 0.25675072 0.26375632 0.26129004 0.24623989 0.23630679\n",
            " 0.24760897 0.24007418 0.24337065 0.25601278 0.257076   0.25839167\n",
            " 0.25351737 0.25874122 0.26796066 0.27029586 0.26950451 0.26867918\n",
            " 0.26925206 0.27864626 0.27910748 0.27958811 0.27056288 0.27383021\n",
            " 0.27455359 0.28005904 0.2806222  0.28183592 0.26760139 0.27207275\n",
            " 0.27817048 0.27899582 0.28906971 0.29730845 0.29060871 0.29242929\n",
            " 0.28959889 0.28947266 0.2925361  0.29207974 0.29312839 0.2984008\n",
            " 0.29445863 0.29759003 0.30428007 0.30688229 0.31039723 0.32239365\n",
            " 0.33554069 0.33270543 0.33344823 0.34713901 0.35475148 0.41067007\n",
            " 0.40754838 0.41698143 0.43600287 0.45394654 0.49986892 0.48210488\n",
            " 0.50242744 0.51021954 0.50642302 0.47770636 0.41000981 0.43158978\n",
            " 0.42943421 0.41482586 0.40510152 0.42517162 0.44181417 0.44539223\n",
            " 0.46514191 0.47475944 0.45153366 0.45491752 0.43837206 0.46510792\n",
            " 0.46888017 0.46471715 0.47254395 0.47795615 0.48449159 0.49037817\n",
            " 0.49557865 0.49982867 0.50323629 0.50600415]\n",
            "9 day output [[0.5083897]]\n",
            "10 day input [0.23237919 0.22614551 0.22721359 0.24195788 0.24673994 0.25764888\n",
            " 0.25768286 0.25825574 0.2600569  0.25251726 0.25963452 0.25780423\n",
            " 0.25675072 0.26375632 0.26129004 0.24623989 0.23630679 0.24760897\n",
            " 0.24007418 0.24337065 0.25601278 0.257076   0.25839167 0.25351737\n",
            " 0.25874122 0.26796066 0.27029586 0.26950451 0.26867918 0.26925206\n",
            " 0.27864626 0.27910748 0.27958811 0.27056288 0.27383021 0.27455359\n",
            " 0.28005904 0.2806222  0.28183592 0.26760139 0.27207275 0.27817048\n",
            " 0.27899582 0.28906971 0.29730845 0.29060871 0.29242929 0.28959889\n",
            " 0.28947266 0.2925361  0.29207974 0.29312839 0.2984008  0.29445863\n",
            " 0.29759003 0.30428007 0.30688229 0.31039723 0.32239365 0.33554069\n",
            " 0.33270543 0.33344823 0.34713901 0.35475148 0.41067007 0.40754838\n",
            " 0.41698143 0.43600287 0.45394654 0.49986892 0.48210488 0.50242744\n",
            " 0.51021954 0.50642302 0.47770636 0.41000981 0.43158978 0.42943421\n",
            " 0.41482586 0.40510152 0.42517162 0.44181417 0.44539223 0.46514191\n",
            " 0.47475944 0.45153366 0.45491752 0.43837206 0.46510792 0.46888017\n",
            " 0.46471715 0.47254395 0.47795615 0.48449159 0.49037817 0.49557865\n",
            " 0.49982867 0.50323629 0.50600415 0.50838971]\n",
            "10 day output [[0.5106009]]\n",
            "11 day input [0.22614551 0.22721359 0.24195788 0.24673994 0.25764888 0.25768286\n",
            " 0.25825574 0.2600569  0.25251726 0.25963452 0.25780423 0.25675072\n",
            " 0.26375632 0.26129004 0.24623989 0.23630679 0.24760897 0.24007418\n",
            " 0.24337065 0.25601278 0.257076   0.25839167 0.25351737 0.25874122\n",
            " 0.26796066 0.27029586 0.26950451 0.26867918 0.26925206 0.27864626\n",
            " 0.27910748 0.27958811 0.27056288 0.27383021 0.27455359 0.28005904\n",
            " 0.2806222  0.28183592 0.26760139 0.27207275 0.27817048 0.27899582\n",
            " 0.28906971 0.29730845 0.29060871 0.29242929 0.28959889 0.28947266\n",
            " 0.2925361  0.29207974 0.29312839 0.2984008  0.29445863 0.29759003\n",
            " 0.30428007 0.30688229 0.31039723 0.32239365 0.33554069 0.33270543\n",
            " 0.33344823 0.34713901 0.35475148 0.41067007 0.40754838 0.41698143\n",
            " 0.43600287 0.45394654 0.49986892 0.48210488 0.50242744 0.51021954\n",
            " 0.50642302 0.47770636 0.41000981 0.43158978 0.42943421 0.41482586\n",
            " 0.40510152 0.42517162 0.44181417 0.44539223 0.46514191 0.47475944\n",
            " 0.45153366 0.45491752 0.43837206 0.46510792 0.46888017 0.46471715\n",
            " 0.47254395 0.47795615 0.48449159 0.49037817 0.49557865 0.49982867\n",
            " 0.50323629 0.50600415 0.50838971 0.51060092]\n",
            "11 day output [[0.51275074]]\n",
            "12 day input [0.22721359 0.24195788 0.24673994 0.25764888 0.25768286 0.25825574\n",
            " 0.2600569  0.25251726 0.25963452 0.25780423 0.25675072 0.26375632\n",
            " 0.26129004 0.24623989 0.23630679 0.24760897 0.24007418 0.24337065\n",
            " 0.25601278 0.257076   0.25839167 0.25351737 0.25874122 0.26796066\n",
            " 0.27029586 0.26950451 0.26867918 0.26925206 0.27864626 0.27910748\n",
            " 0.27958811 0.27056288 0.27383021 0.27455359 0.28005904 0.2806222\n",
            " 0.28183592 0.26760139 0.27207275 0.27817048 0.27899582 0.28906971\n",
            " 0.29730845 0.29060871 0.29242929 0.28959889 0.28947266 0.2925361\n",
            " 0.29207974 0.29312839 0.2984008  0.29445863 0.29759003 0.30428007\n",
            " 0.30688229 0.31039723 0.32239365 0.33554069 0.33270543 0.33344823\n",
            " 0.34713901 0.35475148 0.41067007 0.40754838 0.41698143 0.43600287\n",
            " 0.45394654 0.49986892 0.48210488 0.50242744 0.51021954 0.50642302\n",
            " 0.47770636 0.41000981 0.43158978 0.42943421 0.41482586 0.40510152\n",
            " 0.42517162 0.44181417 0.44539223 0.46514191 0.47475944 0.45153366\n",
            " 0.45491752 0.43837206 0.46510792 0.46888017 0.46471715 0.47254395\n",
            " 0.47795615 0.48449159 0.49037817 0.49557865 0.49982867 0.50323629\n",
            " 0.50600415 0.50838971 0.51060092 0.51275074]\n",
            "12 day output [[0.514841]]\n",
            "13 day input [0.24195788 0.24673994 0.25764888 0.25768286 0.25825574 0.2600569\n",
            " 0.25251726 0.25963452 0.25780423 0.25675072 0.26375632 0.26129004\n",
            " 0.24623989 0.23630679 0.24760897 0.24007418 0.24337065 0.25601278\n",
            " 0.257076   0.25839167 0.25351737 0.25874122 0.26796066 0.27029586\n",
            " 0.26950451 0.26867918 0.26925206 0.27864626 0.27910748 0.27958811\n",
            " 0.27056288 0.27383021 0.27455359 0.28005904 0.2806222  0.28183592\n",
            " 0.26760139 0.27207275 0.27817048 0.27899582 0.28906971 0.29730845\n",
            " 0.29060871 0.29242929 0.28959889 0.28947266 0.2925361  0.29207974\n",
            " 0.29312839 0.2984008  0.29445863 0.29759003 0.30428007 0.30688229\n",
            " 0.31039723 0.32239365 0.33554069 0.33270543 0.33344823 0.34713901\n",
            " 0.35475148 0.41067007 0.40754838 0.41698143 0.43600287 0.45394654\n",
            " 0.49986892 0.48210488 0.50242744 0.51021954 0.50642302 0.47770636\n",
            " 0.41000981 0.43158978 0.42943421 0.41482586 0.40510152 0.42517162\n",
            " 0.44181417 0.44539223 0.46514191 0.47475944 0.45153366 0.45491752\n",
            " 0.43837206 0.46510792 0.46888017 0.46471715 0.47254395 0.47795615\n",
            " 0.48449159 0.49037817 0.49557865 0.49982867 0.50323629 0.50600415\n",
            " 0.50838971 0.51060092 0.51275074 0.51484102]\n",
            "13 day output [[0.5167819]]\n",
            "14 day input [0.24673994 0.25764888 0.25768286 0.25825574 0.2600569  0.25251726\n",
            " 0.25963452 0.25780423 0.25675072 0.26375632 0.26129004 0.24623989\n",
            " 0.23630679 0.24760897 0.24007418 0.24337065 0.25601278 0.257076\n",
            " 0.25839167 0.25351737 0.25874122 0.26796066 0.27029586 0.26950451\n",
            " 0.26867918 0.26925206 0.27864626 0.27910748 0.27958811 0.27056288\n",
            " 0.27383021 0.27455359 0.28005904 0.2806222  0.28183592 0.26760139\n",
            " 0.27207275 0.27817048 0.27899582 0.28906971 0.29730845 0.29060871\n",
            " 0.29242929 0.28959889 0.28947266 0.2925361  0.29207974 0.29312839\n",
            " 0.2984008  0.29445863 0.29759003 0.30428007 0.30688229 0.31039723\n",
            " 0.32239365 0.33554069 0.33270543 0.33344823 0.34713901 0.35475148\n",
            " 0.41067007 0.40754838 0.41698143 0.43600287 0.45394654 0.49986892\n",
            " 0.48210488 0.50242744 0.51021954 0.50642302 0.47770636 0.41000981\n",
            " 0.43158978 0.42943421 0.41482586 0.40510152 0.42517162 0.44181417\n",
            " 0.44539223 0.46514191 0.47475944 0.45153366 0.45491752 0.43837206\n",
            " 0.46510792 0.46888017 0.46471715 0.47254395 0.47795615 0.48449159\n",
            " 0.49037817 0.49557865 0.49982867 0.50323629 0.50600415 0.50838971\n",
            " 0.51060092 0.51275074 0.51484102 0.51678193]\n",
            "14 day output [[0.5184345]]\n",
            "15 day input [0.25764888 0.25768286 0.25825574 0.2600569  0.25251726 0.25963452\n",
            " 0.25780423 0.25675072 0.26375632 0.26129004 0.24623989 0.23630679\n",
            " 0.24760897 0.24007418 0.24337065 0.25601278 0.257076   0.25839167\n",
            " 0.25351737 0.25874122 0.26796066 0.27029586 0.26950451 0.26867918\n",
            " 0.26925206 0.27864626 0.27910748 0.27958811 0.27056288 0.27383021\n",
            " 0.27455359 0.28005904 0.2806222  0.28183592 0.26760139 0.27207275\n",
            " 0.27817048 0.27899582 0.28906971 0.29730845 0.29060871 0.29242929\n",
            " 0.28959889 0.28947266 0.2925361  0.29207974 0.29312839 0.2984008\n",
            " 0.29445863 0.29759003 0.30428007 0.30688229 0.31039723 0.32239365\n",
            " 0.33554069 0.33270543 0.33344823 0.34713901 0.35475148 0.41067007\n",
            " 0.40754838 0.41698143 0.43600287 0.45394654 0.49986892 0.48210488\n",
            " 0.50242744 0.51021954 0.50642302 0.47770636 0.41000981 0.43158978\n",
            " 0.42943421 0.41482586 0.40510152 0.42517162 0.44181417 0.44539223\n",
            " 0.46514191 0.47475944 0.45153366 0.45491752 0.43837206 0.46510792\n",
            " 0.46888017 0.46471715 0.47254395 0.47795615 0.48449159 0.49037817\n",
            " 0.49557865 0.49982867 0.50323629 0.50600415 0.50838971 0.51060092\n",
            " 0.51275074 0.51484102 0.51678193 0.51843452]\n",
            "15 day output [[0.51965845]]\n",
            "16 day input [0.25768286 0.25825574 0.2600569  0.25251726 0.25963452 0.25780423\n",
            " 0.25675072 0.26375632 0.26129004 0.24623989 0.23630679 0.24760897\n",
            " 0.24007418 0.24337065 0.25601278 0.257076   0.25839167 0.25351737\n",
            " 0.25874122 0.26796066 0.27029586 0.26950451 0.26867918 0.26925206\n",
            " 0.27864626 0.27910748 0.27958811 0.27056288 0.27383021 0.27455359\n",
            " 0.28005904 0.2806222  0.28183592 0.26760139 0.27207275 0.27817048\n",
            " 0.27899582 0.28906971 0.29730845 0.29060871 0.29242929 0.28959889\n",
            " 0.28947266 0.2925361  0.29207974 0.29312839 0.2984008  0.29445863\n",
            " 0.29759003 0.30428007 0.30688229 0.31039723 0.32239365 0.33554069\n",
            " 0.33270543 0.33344823 0.34713901 0.35475148 0.41067007 0.40754838\n",
            " 0.41698143 0.43600287 0.45394654 0.49986892 0.48210488 0.50242744\n",
            " 0.51021954 0.50642302 0.47770636 0.41000981 0.43158978 0.42943421\n",
            " 0.41482586 0.40510152 0.42517162 0.44181417 0.44539223 0.46514191\n",
            " 0.47475944 0.45153366 0.45491752 0.43837206 0.46510792 0.46888017\n",
            " 0.46471715 0.47254395 0.47795615 0.48449159 0.49037817 0.49557865\n",
            " 0.49982867 0.50323629 0.50600415 0.50838971 0.51060092 0.51275074\n",
            " 0.51484102 0.51678193 0.51843452 0.51965845]\n",
            "16 day output [[0.5203533]]\n",
            "17 day input [0.25825574 0.2600569  0.25251726 0.25963452 0.25780423 0.25675072\n",
            " 0.26375632 0.26129004 0.24623989 0.23630679 0.24760897 0.24007418\n",
            " 0.24337065 0.25601278 0.257076   0.25839167 0.25351737 0.25874122\n",
            " 0.26796066 0.27029586 0.26950451 0.26867918 0.26925206 0.27864626\n",
            " 0.27910748 0.27958811 0.27056288 0.27383021 0.27455359 0.28005904\n",
            " 0.2806222  0.28183592 0.26760139 0.27207275 0.27817048 0.27899582\n",
            " 0.28906971 0.29730845 0.29060871 0.29242929 0.28959889 0.28947266\n",
            " 0.2925361  0.29207974 0.29312839 0.2984008  0.29445863 0.29759003\n",
            " 0.30428007 0.30688229 0.31039723 0.32239365 0.33554069 0.33270543\n",
            " 0.33344823 0.34713901 0.35475148 0.41067007 0.40754838 0.41698143\n",
            " 0.43600287 0.45394654 0.49986892 0.48210488 0.50242744 0.51021954\n",
            " 0.50642302 0.47770636 0.41000981 0.43158978 0.42943421 0.41482586\n",
            " 0.40510152 0.42517162 0.44181417 0.44539223 0.46514191 0.47475944\n",
            " 0.45153366 0.45491752 0.43837206 0.46510792 0.46888017 0.46471715\n",
            " 0.47254395 0.47795615 0.48449159 0.49037817 0.49557865 0.49982867\n",
            " 0.50323629 0.50600415 0.50838971 0.51060092 0.51275074 0.51484102\n",
            " 0.51678193 0.51843452 0.51965845 0.52035332]\n",
            "17 day output [[0.52048403]]\n",
            "18 day input [0.2600569  0.25251726 0.25963452 0.25780423 0.25675072 0.26375632\n",
            " 0.26129004 0.24623989 0.23630679 0.24760897 0.24007418 0.24337065\n",
            " 0.25601278 0.257076   0.25839167 0.25351737 0.25874122 0.26796066\n",
            " 0.27029586 0.26950451 0.26867918 0.26925206 0.27864626 0.27910748\n",
            " 0.27958811 0.27056288 0.27383021 0.27455359 0.28005904 0.2806222\n",
            " 0.28183592 0.26760139 0.27207275 0.27817048 0.27899582 0.28906971\n",
            " 0.29730845 0.29060871 0.29242929 0.28959889 0.28947266 0.2925361\n",
            " 0.29207974 0.29312839 0.2984008  0.29445863 0.29759003 0.30428007\n",
            " 0.30688229 0.31039723 0.32239365 0.33554069 0.33270543 0.33344823\n",
            " 0.34713901 0.35475148 0.41067007 0.40754838 0.41698143 0.43600287\n",
            " 0.45394654 0.49986892 0.48210488 0.50242744 0.51021954 0.50642302\n",
            " 0.47770636 0.41000981 0.43158978 0.42943421 0.41482586 0.40510152\n",
            " 0.42517162 0.44181417 0.44539223 0.46514191 0.47475944 0.45153366\n",
            " 0.45491752 0.43837206 0.46510792 0.46888017 0.46471715 0.47254395\n",
            " 0.47795615 0.48449159 0.49037817 0.49557865 0.49982867 0.50323629\n",
            " 0.50600415 0.50838971 0.51060092 0.51275074 0.51484102 0.51678193\n",
            " 0.51843452 0.51965845 0.52035332 0.52048403]\n",
            "18 day output [[0.52008617]]\n",
            "19 day input [0.25251726 0.25963452 0.25780423 0.25675072 0.26375632 0.26129004\n",
            " 0.24623989 0.23630679 0.24760897 0.24007418 0.24337065 0.25601278\n",
            " 0.257076   0.25839167 0.25351737 0.25874122 0.26796066 0.27029586\n",
            " 0.26950451 0.26867918 0.26925206 0.27864626 0.27910748 0.27958811\n",
            " 0.27056288 0.27383021 0.27455359 0.28005904 0.2806222  0.28183592\n",
            " 0.26760139 0.27207275 0.27817048 0.27899582 0.28906971 0.29730845\n",
            " 0.29060871 0.29242929 0.28959889 0.28947266 0.2925361  0.29207974\n",
            " 0.29312839 0.2984008  0.29445863 0.29759003 0.30428007 0.30688229\n",
            " 0.31039723 0.32239365 0.33554069 0.33270543 0.33344823 0.34713901\n",
            " 0.35475148 0.41067007 0.40754838 0.41698143 0.43600287 0.45394654\n",
            " 0.49986892 0.48210488 0.50242744 0.51021954 0.50642302 0.47770636\n",
            " 0.41000981 0.43158978 0.42943421 0.41482586 0.40510152 0.42517162\n",
            " 0.44181417 0.44539223 0.46514191 0.47475944 0.45153366 0.45491752\n",
            " 0.43837206 0.46510792 0.46888017 0.46471715 0.47254395 0.47795615\n",
            " 0.48449159 0.49037817 0.49557865 0.49982867 0.50323629 0.50600415\n",
            " 0.50838971 0.51060092 0.51275074 0.51484102 0.51678193 0.51843452\n",
            " 0.51965845 0.52035332 0.52048403 0.52008617]\n",
            "19 day output [[0.5192542]]\n",
            "20 day input [0.25963452 0.25780423 0.25675072 0.26375632 0.26129004 0.24623989\n",
            " 0.23630679 0.24760897 0.24007418 0.24337065 0.25601278 0.257076\n",
            " 0.25839167 0.25351737 0.25874122 0.26796066 0.27029586 0.26950451\n",
            " 0.26867918 0.26925206 0.27864626 0.27910748 0.27958811 0.27056288\n",
            " 0.27383021 0.27455359 0.28005904 0.2806222  0.28183592 0.26760139\n",
            " 0.27207275 0.27817048 0.27899582 0.28906971 0.29730845 0.29060871\n",
            " 0.29242929 0.28959889 0.28947266 0.2925361  0.29207974 0.29312839\n",
            " 0.2984008  0.29445863 0.29759003 0.30428007 0.30688229 0.31039723\n",
            " 0.32239365 0.33554069 0.33270543 0.33344823 0.34713901 0.35475148\n",
            " 0.41067007 0.40754838 0.41698143 0.43600287 0.45394654 0.49986892\n",
            " 0.48210488 0.50242744 0.51021954 0.50642302 0.47770636 0.41000981\n",
            " 0.43158978 0.42943421 0.41482586 0.40510152 0.42517162 0.44181417\n",
            " 0.44539223 0.46514191 0.47475944 0.45153366 0.45491752 0.43837206\n",
            " 0.46510792 0.46888017 0.46471715 0.47254395 0.47795615 0.48449159\n",
            " 0.49037817 0.49557865 0.49982867 0.50323629 0.50600415 0.50838971\n",
            " 0.51060092 0.51275074 0.51484102 0.51678193 0.51843452 0.51965845\n",
            " 0.52035332 0.52048403 0.52008617 0.51925421]\n",
            "20 day output [[0.5181199]]\n",
            "21 day input [0.25780423 0.25675072 0.26375632 0.26129004 0.24623989 0.23630679\n",
            " 0.24760897 0.24007418 0.24337065 0.25601278 0.257076   0.25839167\n",
            " 0.25351737 0.25874122 0.26796066 0.27029586 0.26950451 0.26867918\n",
            " 0.26925206 0.27864626 0.27910748 0.27958811 0.27056288 0.27383021\n",
            " 0.27455359 0.28005904 0.2806222  0.28183592 0.26760139 0.27207275\n",
            " 0.27817048 0.27899582 0.28906971 0.29730845 0.29060871 0.29242929\n",
            " 0.28959889 0.28947266 0.2925361  0.29207974 0.29312839 0.2984008\n",
            " 0.29445863 0.29759003 0.30428007 0.30688229 0.31039723 0.32239365\n",
            " 0.33554069 0.33270543 0.33344823 0.34713901 0.35475148 0.41067007\n",
            " 0.40754838 0.41698143 0.43600287 0.45394654 0.49986892 0.48210488\n",
            " 0.50242744 0.51021954 0.50642302 0.47770636 0.41000981 0.43158978\n",
            " 0.42943421 0.41482586 0.40510152 0.42517162 0.44181417 0.44539223\n",
            " 0.46514191 0.47475944 0.45153366 0.45491752 0.43837206 0.46510792\n",
            " 0.46888017 0.46471715 0.47254395 0.47795615 0.48449159 0.49037817\n",
            " 0.49557865 0.49982867 0.50323629 0.50600415 0.50838971 0.51060092\n",
            " 0.51275074 0.51484102 0.51678193 0.51843452 0.51965845 0.52035332\n",
            " 0.52048403 0.52008617 0.51925421 0.51811987]\n",
            "21 day output [[0.5168278]]\n",
            "22 day input [0.25675072 0.26375632 0.26129004 0.24623989 0.23630679 0.24760897\n",
            " 0.24007418 0.24337065 0.25601278 0.257076   0.25839167 0.25351737\n",
            " 0.25874122 0.26796066 0.27029586 0.26950451 0.26867918 0.26925206\n",
            " 0.27864626 0.27910748 0.27958811 0.27056288 0.27383021 0.27455359\n",
            " 0.28005904 0.2806222  0.28183592 0.26760139 0.27207275 0.27817048\n",
            " 0.27899582 0.28906971 0.29730845 0.29060871 0.29242929 0.28959889\n",
            " 0.28947266 0.2925361  0.29207974 0.29312839 0.2984008  0.29445863\n",
            " 0.29759003 0.30428007 0.30688229 0.31039723 0.32239365 0.33554069\n",
            " 0.33270543 0.33344823 0.34713901 0.35475148 0.41067007 0.40754838\n",
            " 0.41698143 0.43600287 0.45394654 0.49986892 0.48210488 0.50242744\n",
            " 0.51021954 0.50642302 0.47770636 0.41000981 0.43158978 0.42943421\n",
            " 0.41482586 0.40510152 0.42517162 0.44181417 0.44539223 0.46514191\n",
            " 0.47475944 0.45153366 0.45491752 0.43837206 0.46510792 0.46888017\n",
            " 0.46471715 0.47254395 0.47795615 0.48449159 0.49037817 0.49557865\n",
            " 0.49982867 0.50323629 0.50600415 0.50838971 0.51060092 0.51275074\n",
            " 0.51484102 0.51678193 0.51843452 0.51965845 0.52035332 0.52048403\n",
            " 0.52008617 0.51925421 0.51811987 0.51682782]\n",
            "22 day output [[0.5155138]]\n",
            "23 day input [0.26375632 0.26129004 0.24623989 0.23630679 0.24760897 0.24007418\n",
            " 0.24337065 0.25601278 0.257076   0.25839167 0.25351737 0.25874122\n",
            " 0.26796066 0.27029586 0.26950451 0.26867918 0.26925206 0.27864626\n",
            " 0.27910748 0.27958811 0.27056288 0.27383021 0.27455359 0.28005904\n",
            " 0.2806222  0.28183592 0.26760139 0.27207275 0.27817048 0.27899582\n",
            " 0.28906971 0.29730845 0.29060871 0.29242929 0.28959889 0.28947266\n",
            " 0.2925361  0.29207974 0.29312839 0.2984008  0.29445863 0.29759003\n",
            " 0.30428007 0.30688229 0.31039723 0.32239365 0.33554069 0.33270543\n",
            " 0.33344823 0.34713901 0.35475148 0.41067007 0.40754838 0.41698143\n",
            " 0.43600287 0.45394654 0.49986892 0.48210488 0.50242744 0.51021954\n",
            " 0.50642302 0.47770636 0.41000981 0.43158978 0.42943421 0.41482586\n",
            " 0.40510152 0.42517162 0.44181417 0.44539223 0.46514191 0.47475944\n",
            " 0.45153366 0.45491752 0.43837206 0.46510792 0.46888017 0.46471715\n",
            " 0.47254395 0.47795615 0.48449159 0.49037817 0.49557865 0.49982867\n",
            " 0.50323629 0.50600415 0.50838971 0.51060092 0.51275074 0.51484102\n",
            " 0.51678193 0.51843452 0.51965845 0.52035332 0.52048403 0.52008617\n",
            " 0.51925421 0.51811987 0.51682782 0.51551378]\n",
            "23 day output [[0.5142896]]\n",
            "24 day input [0.26129004 0.24623989 0.23630679 0.24760897 0.24007418 0.24337065\n",
            " 0.25601278 0.257076   0.25839167 0.25351737 0.25874122 0.26796066\n",
            " 0.27029586 0.26950451 0.26867918 0.26925206 0.27864626 0.27910748\n",
            " 0.27958811 0.27056288 0.27383021 0.27455359 0.28005904 0.2806222\n",
            " 0.28183592 0.26760139 0.27207275 0.27817048 0.27899582 0.28906971\n",
            " 0.29730845 0.29060871 0.29242929 0.28959889 0.28947266 0.2925361\n",
            " 0.29207974 0.29312839 0.2984008  0.29445863 0.29759003 0.30428007\n",
            " 0.30688229 0.31039723 0.32239365 0.33554069 0.33270543 0.33344823\n",
            " 0.34713901 0.35475148 0.41067007 0.40754838 0.41698143 0.43600287\n",
            " 0.45394654 0.49986892 0.48210488 0.50242744 0.51021954 0.50642302\n",
            " 0.47770636 0.41000981 0.43158978 0.42943421 0.41482586 0.40510152\n",
            " 0.42517162 0.44181417 0.44539223 0.46514191 0.47475944 0.45153366\n",
            " 0.45491752 0.43837206 0.46510792 0.46888017 0.46471715 0.47254395\n",
            " 0.47795615 0.48449159 0.49037817 0.49557865 0.49982867 0.50323629\n",
            " 0.50600415 0.50838971 0.51060092 0.51275074 0.51484102 0.51678193\n",
            " 0.51843452 0.51965845 0.52035332 0.52048403 0.52008617 0.51925421\n",
            " 0.51811987 0.51682782 0.51551378 0.51428962]\n",
            "24 day output [[0.51323676]]\n",
            "25 day input [0.24623989 0.23630679 0.24760897 0.24007418 0.24337065 0.25601278\n",
            " 0.257076   0.25839167 0.25351737 0.25874122 0.26796066 0.27029586\n",
            " 0.26950451 0.26867918 0.26925206 0.27864626 0.27910748 0.27958811\n",
            " 0.27056288 0.27383021 0.27455359 0.28005904 0.2806222  0.28183592\n",
            " 0.26760139 0.27207275 0.27817048 0.27899582 0.28906971 0.29730845\n",
            " 0.29060871 0.29242929 0.28959889 0.28947266 0.2925361  0.29207974\n",
            " 0.29312839 0.2984008  0.29445863 0.29759003 0.30428007 0.30688229\n",
            " 0.31039723 0.32239365 0.33554069 0.33270543 0.33344823 0.34713901\n",
            " 0.35475148 0.41067007 0.40754838 0.41698143 0.43600287 0.45394654\n",
            " 0.49986892 0.48210488 0.50242744 0.51021954 0.50642302 0.47770636\n",
            " 0.41000981 0.43158978 0.42943421 0.41482586 0.40510152 0.42517162\n",
            " 0.44181417 0.44539223 0.46514191 0.47475944 0.45153366 0.45491752\n",
            " 0.43837206 0.46510792 0.46888017 0.46471715 0.47254395 0.47795615\n",
            " 0.48449159 0.49037817 0.49557865 0.49982867 0.50323629 0.50600415\n",
            " 0.50838971 0.51060092 0.51275074 0.51484102 0.51678193 0.51843452\n",
            " 0.51965845 0.52035332 0.52048403 0.52008617 0.51925421 0.51811987\n",
            " 0.51682782 0.51551378 0.51428962 0.51323676]\n",
            "25 day output [[0.51240706]]\n",
            "26 day input [0.23630679 0.24760897 0.24007418 0.24337065 0.25601278 0.257076\n",
            " 0.25839167 0.25351737 0.25874122 0.26796066 0.27029586 0.26950451\n",
            " 0.26867918 0.26925206 0.27864626 0.27910748 0.27958811 0.27056288\n",
            " 0.27383021 0.27455359 0.28005904 0.2806222  0.28183592 0.26760139\n",
            " 0.27207275 0.27817048 0.27899582 0.28906971 0.29730845 0.29060871\n",
            " 0.29242929 0.28959889 0.28947266 0.2925361  0.29207974 0.29312839\n",
            " 0.2984008  0.29445863 0.29759003 0.30428007 0.30688229 0.31039723\n",
            " 0.32239365 0.33554069 0.33270543 0.33344823 0.34713901 0.35475148\n",
            " 0.41067007 0.40754838 0.41698143 0.43600287 0.45394654 0.49986892\n",
            " 0.48210488 0.50242744 0.51021954 0.50642302 0.47770636 0.41000981\n",
            " 0.43158978 0.42943421 0.41482586 0.40510152 0.42517162 0.44181417\n",
            " 0.44539223 0.46514191 0.47475944 0.45153366 0.45491752 0.43837206\n",
            " 0.46510792 0.46888017 0.46471715 0.47254395 0.47795615 0.48449159\n",
            " 0.49037817 0.49557865 0.49982867 0.50323629 0.50600415 0.50838971\n",
            " 0.51060092 0.51275074 0.51484102 0.51678193 0.51843452 0.51965845\n",
            " 0.52035332 0.52048403 0.52008617 0.51925421 0.51811987 0.51682782\n",
            " 0.51551378 0.51428962 0.51323676 0.51240706]\n",
            "26 day output [[0.51182896]]\n",
            "27 day input [0.24760897 0.24007418 0.24337065 0.25601278 0.257076   0.25839167\n",
            " 0.25351737 0.25874122 0.26796066 0.27029586 0.26950451 0.26867918\n",
            " 0.26925206 0.27864626 0.27910748 0.27958811 0.27056288 0.27383021\n",
            " 0.27455359 0.28005904 0.2806222  0.28183592 0.26760139 0.27207275\n",
            " 0.27817048 0.27899582 0.28906971 0.29730845 0.29060871 0.29242929\n",
            " 0.28959889 0.28947266 0.2925361  0.29207974 0.29312839 0.2984008\n",
            " 0.29445863 0.29759003 0.30428007 0.30688229 0.31039723 0.32239365\n",
            " 0.33554069 0.33270543 0.33344823 0.34713901 0.35475148 0.41067007\n",
            " 0.40754838 0.41698143 0.43600287 0.45394654 0.49986892 0.48210488\n",
            " 0.50242744 0.51021954 0.50642302 0.47770636 0.41000981 0.43158978\n",
            " 0.42943421 0.41482586 0.40510152 0.42517162 0.44181417 0.44539223\n",
            " 0.46514191 0.47475944 0.45153366 0.45491752 0.43837206 0.46510792\n",
            " 0.46888017 0.46471715 0.47254395 0.47795615 0.48449159 0.49037817\n",
            " 0.49557865 0.49982867 0.50323629 0.50600415 0.50838971 0.51060092\n",
            " 0.51275074 0.51484102 0.51678193 0.51843452 0.51965845 0.52035332\n",
            " 0.52048403 0.52008617 0.51925421 0.51811987 0.51682782 0.51551378\n",
            " 0.51428962 0.51323676 0.51240706 0.51182896]\n",
            "27 day output [[0.5115167]]\n",
            "28 day input [0.24007418 0.24337065 0.25601278 0.257076   0.25839167 0.25351737\n",
            " 0.25874122 0.26796066 0.27029586 0.26950451 0.26867918 0.26925206\n",
            " 0.27864626 0.27910748 0.27958811 0.27056288 0.27383021 0.27455359\n",
            " 0.28005904 0.2806222  0.28183592 0.26760139 0.27207275 0.27817048\n",
            " 0.27899582 0.28906971 0.29730845 0.29060871 0.29242929 0.28959889\n",
            " 0.28947266 0.2925361  0.29207974 0.29312839 0.2984008  0.29445863\n",
            " 0.29759003 0.30428007 0.30688229 0.31039723 0.32239365 0.33554069\n",
            " 0.33270543 0.33344823 0.34713901 0.35475148 0.41067007 0.40754838\n",
            " 0.41698143 0.43600287 0.45394654 0.49986892 0.48210488 0.50242744\n",
            " 0.51021954 0.50642302 0.47770636 0.41000981 0.43158978 0.42943421\n",
            " 0.41482586 0.40510152 0.42517162 0.44181417 0.44539223 0.46514191\n",
            " 0.47475944 0.45153366 0.45491752 0.43837206 0.46510792 0.46888017\n",
            " 0.46471715 0.47254395 0.47795615 0.48449159 0.49037817 0.49557865\n",
            " 0.49982867 0.50323629 0.50600415 0.50838971 0.51060092 0.51275074\n",
            " 0.51484102 0.51678193 0.51843452 0.51965845 0.52035332 0.52048403\n",
            " 0.52008617 0.51925421 0.51811987 0.51682782 0.51551378 0.51428962\n",
            " 0.51323676 0.51240706 0.51182896 0.51151669]\n",
            "28 day output [[0.51147884]]\n",
            "29 day input [0.24337065 0.25601278 0.257076   0.25839167 0.25351737 0.25874122\n",
            " 0.26796066 0.27029586 0.26950451 0.26867918 0.26925206 0.27864626\n",
            " 0.27910748 0.27958811 0.27056288 0.27383021 0.27455359 0.28005904\n",
            " 0.2806222  0.28183592 0.26760139 0.27207275 0.27817048 0.27899582\n",
            " 0.28906971 0.29730845 0.29060871 0.29242929 0.28959889 0.28947266\n",
            " 0.2925361  0.29207974 0.29312839 0.2984008  0.29445863 0.29759003\n",
            " 0.30428007 0.30688229 0.31039723 0.32239365 0.33554069 0.33270543\n",
            " 0.33344823 0.34713901 0.35475148 0.41067007 0.40754838 0.41698143\n",
            " 0.43600287 0.45394654 0.49986892 0.48210488 0.50242744 0.51021954\n",
            " 0.50642302 0.47770636 0.41000981 0.43158978 0.42943421 0.41482586\n",
            " 0.40510152 0.42517162 0.44181417 0.44539223 0.46514191 0.47475944\n",
            " 0.45153366 0.45491752 0.43837206 0.46510792 0.46888017 0.46471715\n",
            " 0.47254395 0.47795615 0.48449159 0.49037817 0.49557865 0.49982867\n",
            " 0.50323629 0.50600415 0.50838971 0.51060092 0.51275074 0.51484102\n",
            " 0.51678193 0.51843452 0.51965845 0.52035332 0.52048403 0.52008617\n",
            " 0.51925421 0.51811987 0.51682782 0.51551378 0.51428962 0.51323676\n",
            " 0.51240706 0.51182896 0.51151669 0.51147884]\n",
            "29 day output [[0.51172554]]\n"
          ]
        }
      ]
    },
    {
      "cell_type": "code",
      "metadata": {
        "colab": {
          "base_uri": "https://localhost:8080/"
        },
        "id": "MoxwV3cSUN-4",
        "outputId": "40d0b4bf-d747-4936-f11b-4b0edccf4863"
      },
      "source": [
        "#prediction for next 30 days in the form of a list \n",
        "output"
      ],
      "execution_count": null,
      "outputs": [
        {
          "output_type": "execute_result",
          "data": {
            "text/plain": [
              "[[0.46471714973449707],\n",
              " [0.47254395484924316],\n",
              " [0.4779561460018158],\n",
              " [0.48449158668518066],\n",
              " [0.49037817120552063],\n",
              " [0.4955786466598511],\n",
              " [0.49982866644859314],\n",
              " [0.5032362937927246],\n",
              " [0.5060041546821594],\n",
              " [0.5083897113800049],\n",
              " [0.5106009244918823],\n",
              " [0.5127507448196411],\n",
              " [0.5148410201072693],\n",
              " [0.5167819261550903],\n",
              " [0.5184345245361328],\n",
              " [0.5196584463119507],\n",
              " [0.5203533172607422],\n",
              " [0.5204840302467346],\n",
              " [0.5200861692428589],\n",
              " [0.519254207611084],\n",
              " [0.5181198716163635],\n",
              " [0.5168278217315674],\n",
              " [0.5155137777328491],\n",
              " [0.5142896175384521],\n",
              " [0.5132367610931396],\n",
              " [0.5124070644378662],\n",
              " [0.5118289589881897],\n",
              " [0.5115166902542114],\n",
              " [0.511478841304779],\n",
              " [0.5117255449295044]]"
            ]
          },
          "metadata": {},
          "execution_count": 88
        }
      ]
    },
    {
      "cell_type": "code",
      "metadata": {
        "id": "lJiKZWD4Ucf0"
      },
      "source": [
        "day_new=np.arange(1,101)\n",
        "day_pred=np.arange(101,131)"
      ],
      "execution_count": null,
      "outputs": []
    },
    {
      "cell_type": "code",
      "metadata": {
        "colab": {
          "base_uri": "https://localhost:8080/",
          "height": 282
        },
        "id": "nLNPB35sUwpI",
        "outputId": "f417648f-23d4-404a-985d-815da66020a5"
      },
      "source": [
        "plt.plot(day_new,scaler.inverse_transform(data1[1157:]))\n",
        "plt.plot(day_pred,scaler.inverse_transform(lst_output))"
      ],
      "execution_count": null,
      "outputs": [
        {
          "output_type": "execute_result",
          "data": {
            "text/plain": [
              "[<matplotlib.lines.Line2D at 0x7f65d77f6310>]"
            ]
          },
          "metadata": {},
          "execution_count": 90
        },
        {
          "output_type": "display_data",
          "data": {
            "image/png": "[encoded data removed]",
            "text/plain": [
              "<Figure size 432x288 with 1 Axes>"
            ]
          },
          "metadata": {
            "needs_background": "light"
          }
        }
      ]
    },
    {
      "cell_type": "code",
      "metadata": {
        "id": "6xe7YH6-VTCd",
        "colab": {
          "base_uri": "https://localhost:8080/",
          "height": 282
        },
        "outputId": "bc0eb561-202e-4d89-f77a-55e860b13054"
      },
      "source": [
        "df1=data1.tolist()\n",
        "df1.extend(lst_output)\n",
        "plt.plot(df1[1200:])"
      ],
      "execution_count": null,
      "outputs": [
        {
          "output_type": "execute_result",
          "data": {
            "text/plain": [
              "[<matplotlib.lines.Line2D at 0x7f65d7836bd0>]"
            ]
          },
          "metadata": {},
          "execution_count": 91
        },
        {
          "output_type": "display_data",
          "data": {
            "image/png": "[encoded data removed]",
            "text/plain": [
              "<Figure size 432x288 with 1 Axes>"
            ]
          },
          "metadata": {
            "needs_background": "light"
          }
        }
      ]
    },
    {
      "cell_type": "code",
      "metadata": {
        "id": "AN40xEDPXFnZ"
      },
      "source": [
        ""
      ],
      "execution_count": null,
      "outputs": []
    }
  ]
}