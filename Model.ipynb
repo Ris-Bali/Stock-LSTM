{
  "nbformat": 4,
  "nbformat_minor": 0,
  "metadata": {
    "colab": {
      "name": "Model.ipynb",
      "provenance": [],
      "collapsed_sections": []
    },
    "kernelspec": {
      "name": "python3",
      "display_name": "Python 3"
    },
    "language_info": {
      "name": "python"
    },
    "accelerator": "TPU"
  },
  "cells": [
    {
      "cell_type": "code",
      "metadata": {
        "id": "qmM1BsxBaLQU"
      },
      "source": [
        "import pandas_datareader as pdr\n",
        "import pandas as pd \n",
        "import matplotlib.pyplot as plt\n",
        "import numpy as np\n",
        "import math\n",
        "from sklearn.metrics import mean_squared_error\n",
        "from sklearn.preprocessing import MinMaxScaler\n",
        "from tensorflow.keras.models import Sequential\n",
        "from tensorflow.keras.layers import Dense\n",
        "from tensorflow.keras.layers import LSTM\n"
      ],
      "execution_count": null,
      "outputs": []
    },
    {
      "cell_type": "markdown",
      "metadata": {
        "id": "4xZx7wwsi70R"
      },
      "source": [
        " We will train this LSTM network using Tesla's stock market data"
      ]
    },
    {
      "cell_type": "code",
      "metadata": {
        "id": "KJcOIrtdaR6L"
      },
      "source": [
        "df=pdr.get_data_tiingo('Stock_symbol',api_key=key)"
      ],
      "execution_count": null,
      "outputs": []
    },
    {
      "cell_type": "code",
      "metadata": {
        "id": "JQQ_P9o_ez2L"
      },
      "source": [
        "df.to_csv('stock.csv')"
      ],
      "execution_count": null,
      "outputs": []
    },
    {
      "cell_type": "code",
      "metadata": {
        "id": "3QE4XyhmfClD"
      },
      "source": [
        "data=pd.read_csv('stock.csv')"
      ],
      "execution_count": null,
      "outputs": []
    },
    {
      "cell_type": "code",
      "metadata": {
        "id": "6fFATXpFfS0C"
      },
      "source": [
        "data"
      ],
      "execution_count": null,
      "outputs": []
    },
    {
      "cell_type": "code",
      "metadata": {
        "id": "iNQF0-p0fYuY"
      },
      "source": [
        "# We will consider only the closing price of the stock after \n",
        "data1=data.reset_index()[\"close\"]"
      ],
      "execution_count": null,
      "outputs": []
    },
    {
      "cell_type": "code",
      "metadata": {
        "colab": {
          "base_uri": "https://localhost:8080/"
        },
        "id": "ua0su2PPfpkn",
        "outputId": "f4c52443-a97c-44ec-c2ba-800314af2a4c"
      },
      "source": [
        "data1.shape"
      ],
      "execution_count": null,
      "outputs": [
        {
          "output_type": "execute_result",
          "data": {
            "text/plain": [
              "(1257,)"
            ]
          },
          "metadata": {},
          "execution_count": 56
        }
      ]
    },
    {
      "cell_type": "code",
      "metadata": {
        "id": "Kb1ufcB9gMD9"
      },
      "source": [
        "# Getting the data in the range of (0,1) using Min max scaler as LSTMS are sensitive to large input values\n",
        "scaler=MinMaxScaler(feature_range=(0,1))\n",
        "data1=scaler.fit_transform(np.array(data1).reshape(-1,1))"
      ],
      "execution_count": null,
      "outputs": []
    },
    {
      "cell_type": "code",
      "metadata": {
        "colab": {
          "base_uri": "https://localhost:8080/"
        },
        "id": "rdKn71lcGms6",
        "outputId": "99ceb0ec-2d97-480d-b0a0-ee9296c0a801"
      },
      "source": [
        "# as u can see the  data has been converted to an array\n",
        "data1"
      ],
      "execution_count": null,
      "outputs": [
        {
          "output_type": "execute_result",
          "data": {
            "text/plain": [
              "array([[0.00121372],\n",
              "       [0.00380138],\n",
              "       [0.00334016],\n",
              "       ...,\n",
              "       [0.43837206],\n",
              "       [0.46510792],\n",
              "       [0.46888017]])"
            ]
          },
          "metadata": {},
          "execution_count": 58
        }
      ]
    },
    {
      "cell_type": "code",
      "metadata": {
        "id": "CkEwf5gtGvxk"
      },
      "source": [
        "#We will make a 75:25 train test split \n",
        "training_size=int(len(data1)*0.75)\n",
        "test_size=len(data1)-training_size\n",
        "train_data,test_data=data1[0:training_size,:],data1[training_size:len(data1),:1]"
      ],
      "execution_count": null,
      "outputs": []
    },
    {
      "cell_type": "code",
      "metadata": {
        "colab": {
          "base_uri": "https://localhost:8080/"
        },
        "id": "78JPVHkgHTep",
        "outputId": "15560e67-00f3-4607-acb1-6c8d167f2752"
      },
      "source": [
        "train_data.shape,test_data.shape"
      ],
      "execution_count": null,
      "outputs": [
        {
          "output_type": "execute_result",
          "data": {
            "text/plain": [
              "((942, 1), (315, 1))"
            ]
          },
          "metadata": {},
          "execution_count": 62
        }
      ]
    },
    {
      "cell_type": "code",
      "metadata": {
        "id": "ROEHayGwHqMF"
      },
      "source": [
        "#Definig the Function to create training set and test set \n",
        "def create_dataset(dataset, time_step):\n",
        "\tdata_X, data_Y = [], []\n",
        "\tfor i in range(len(dataset)-time_step-1):\n",
        "\t\ta = dataset[i:(i+time_step), 0]  \n",
        "\t\tdata_X.append(a)\n",
        "\t\tdata_Y.append(dataset[i + time_step, 0])\n",
        "\treturn np.array(data_X), np.array(data_Y)"
      ],
      "execution_count": null,
      "outputs": []
    },
    {
      "cell_type": "code",
      "metadata": {
        "id": "Am6pnKTEIM1X"
      },
      "source": [
        "time_step = 100\n",
        "X_train, Y_train = create_dataset(train_data, time_step)\n",
        "X_test, Y_test = create_dataset(test_data, time_step)"
      ],
      "execution_count": null,
      "outputs": []
    },
    {
      "cell_type": "code",
      "metadata": {
        "id": "1giTyrZVI_RB"
      },
      "source": [
        "#An LSTM needs 3 inputs \n",
        "X_train =X_train.reshape(X_train.shape[0],X_train.shape[1] , 1)\n",
        "X_test = X_test.reshape(X_test.shape[0],X_test.shape[1] , 1)"
      ],
      "execution_count": null,
      "outputs": []
    },
    {
      "cell_type": "code",
      "metadata": {
        "id": "B_3xGoRQJLw9"
      },
      "source": [
        "#Creating a model with 3 LSTM layers \n",
        "model=Sequential()\n",
        "model.add(LSTM(50,return_sequences=True,input_shape=(100,1))) #Layer with 50 activation units\n",
        "model.add(LSTM(50,return_sequences=True))  #Layer with 50 activation units\n",
        "model.add(LSTM(65)) #Layer with 65 activation units\n",
        "model.add(Dense(1))\n",
        "#Specifying the type of loss and the optimizing Algorithm\n",
        "model.compile(loss='mean_squared_error',optimizer='adam')"
      ],
      "execution_count": null,
      "outputs": []
    },
    {
      "cell_type": "code",
      "metadata": {
        "id": "MYKDi_wiJgEb"
      },
      "source": [
        "#Summary of the model \n",
        "model.summary()\n"
      ],
      "execution_count": null,
      "outputs": []
    },
    {
      "cell_type": "code",
      "metadata": {
        "id": "o8crBJitJ6OZ"
      },
      "source": [
        "model.fit(X_train,Y_train,validation_data=(X_test,Y_test),epochs=100,batch_size=10,verbose=1)"
      ],
      "execution_count": null,
      "outputs": []
    },
    {
      "cell_type": "code",
      "metadata": {
        "id": "gnXhoDgBKG14"
      },
      "source": [
        "train_predict=model.predict(X_train)\n",
        "test_predict=model.predict(X_test)"
      ],
      "execution_count": null,
      "outputs": []
    },
    {
      "cell_type": "code",
      "metadata": {
        "id": "Kz-IULg_Qlb1"
      },
      "source": [
        "#Scaling the predicting data back to the original range \n",
        "train_predict=scaler.inverse_transform(train_predict)\n",
        "test_predict=scaler.inverse_transform(test_predict)"
      ],
      "execution_count": null,
      "outputs": []
    },
    {
      "cell_type": "code",
      "metadata": {
        "id": "Ikg6WoA6Qv73"
      },
      "source": [
        "# Getting the error in our predictions \n",
        "print(math.sqrt(mean_squared_error(Y_train,train_predict)))\n",
        "print(math.sqrt(mean_squared_error(Y_test,test_predict)))"
      ],
      "execution_count": null,
      "outputs": []
    },
    {
      "cell_type": "code",
      "metadata": {
        "id": "YL-LY5yZRE_I"
      },
      "source": [
        "### Plotting \n",
        "# Green indicates test predictions , Blue indicates original data,orange indicates train predictions.\n",
        "look_back=100\n",
        "trainPredictPlot = np.empty_like(data1)\n",
        "trainPredictPlot[:, :] = np.nan\n",
        "trainPredictPlot[look_back:len(train_predict)+look_back, :] = train_predict\n",
        "# shift test predictions for plotting\n",
        "testPredictPlot = np.empty_like(data1)\n",
        "testPredictPlot[:, :] = np.nan\n",
        "testPredictPlot[len(train_predict)+(look_back*2)+1:len(data1)-1, :] = test_predict\n",
        "# plot the original stock graph  and  the train and test predictions \n",
        "plt.plot(scaler.inverse_transform(data1))\n",
        "plt.plot(trainPredictPlot)\n",
        "plt.plot(testPredictPlot)\n",
        "plt.show()"
      ],
      "execution_count": null,
      "outputs": []
    },
    {
      "cell_type": "code",
      "metadata": {
        "colab": {
          "base_uri": "https://localhost:8080/"
        },
        "id": "DfLiSiCcSWBF",
        "outputId": "4bc26836-ad7e-4013-c16e-e655806c2779"
      },
      "source": [
        "X_input=test_data[215:].reshape(1,-1)\n",
        "X_input.shape"
      ],
      "execution_count": null,
      "outputs": [
        {
          "output_type": "execute_result",
          "data": {
            "text/plain": [
              "(1, 100)"
            ]
          },
          "metadata": {},
          "execution_count": 85
        }
      ]
    },
    {
      "cell_type": "code",
      "metadata": {
        "id": "L-7TmYkiSk1i"
      },
      "source": [
        "temp_input=list(X_input)\n",
        "temp_input=temp_input[0].tolist()"
      ],
      "execution_count": null,
      "outputs": []
    },
    {
      "cell_type": "code",
      "metadata": {
        "id": "Y0gQgtgOSw5s"
      },
      "source": [
        "# demonstrate prediction for next 30 days\n",
        "\n",
        "output=[] #List to store output of price over next 30 days\n",
        "n_steps=100\n",
        "i=0\n",
        "while(i<30):\n",
        "    #After the first prediction\n",
        "    if(len(temp_input)>100) :\n",
        "        X_input=np.array(temp_input[1:])\n",
        "        print(f\"{i} day input {X_input}\")\n",
        "        X_input=X_input.reshape(1,-1)\n",
        "        X_input = X_input.reshape((1, n_steps, 1))\n",
        "        yhat = model.predict(X_input, verbose=0)\n",
        "        print(f\"{i} day output {yhat}\")\n",
        "        temp_input.extend(yhat[0].tolist())\n",
        "        temp_input=temp_input[1:]\n",
        "        output.extend(yhat.tolist())\n",
        "        i=i+1\n",
        "    else:\n",
        "        X_input = X_input.reshape((1, n_steps,1))\n",
        "        yhat = model.predict(X_input, verbose=0)\n",
        "        #First Prediction\n",
        "        print(yhat[0])\n",
        "        temp_input.extend(yhat[0].tolist())\n",
        "        print(len(temp_input))\n",
        "        output.extend(yhat.tolist())\n",
        "        i=i+1\n",
        "    \n",
        "\n"
      ],
      "execution_count": null,
      "outputs": []
    },
    {
      "cell_type": "code",
      "metadata": {
        "id": "MoxwV3cSUN-4"
      },
      "source": [
        "#prediction for next 30 days in the form of a list \n",
        "output"
      ],
      "execution_count": null,
      "outputs": []
    },
    {
      "cell_type": "code",
      "metadata": {
        "id": "lJiKZWD4Ucf0"
      },
      "source": [
        "day_new=np.arange(1,101)\n",
        "day_pred=np.arange(101,131)"
      ],
      "execution_count": null,
      "outputs": []
    },
    {
      "cell_type": "code",
      "metadata": {
        "id": "nLNPB35sUwpI"
      },
      "source": [
        "plt.plot(day_new,scaler.inverse_transform(data1[1157:]))\n",
        "plt.plot(day_pred,scaler.inverse_transform(lst_output))"
      ],
      "execution_count": null,
      "outputs": []
    },
    {
      "cell_type": "code",
      "metadata": {
        "id": "6xe7YH6-VTCd"
      },
      "source": [
        "df1=data1.tolist()\n",
        "df1.extend(lst_output)\n",
        "plt.plot(df1[1200:])"
      ],
      "execution_count": null,
      "outputs": []
    },
    {
      "cell_type": "code",
      "metadata": {
        "id": "AN40xEDPXFnZ"
      },
      "source": [
        ""
      ],
      "execution_count": null,
      "outputs": []
    }
  ]
}